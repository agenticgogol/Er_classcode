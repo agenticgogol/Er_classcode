{
 "cells": [
  {
   "cell_type": "code",
   "execution_count": 1,
   "id": "f8025932",
   "metadata": {},
   "outputs": [
    {
     "name": "stdout",
     "output_type": "stream",
     "text": [
      "A wrapper around Wikipedia. Useful for when you need to answer general questions about people, places, companies, facts, historical events, or other subjects. Input should be a search query.\n",
      "A wrapper around Arxiv.org Useful for when you need to answer questions about Physics, Mathematics, Computer Science, Quantitative Biology, Quantitative Finance, Statistics, Electrical Engineering, and Economics from scientific articles on arxiv.org. Input should be a search query.\n"
     ]
    },
    {
     "name": "stderr",
     "output_type": "stream",
     "text": [
      "/var/folders/9d/7gw2rnq56ls5m4r1vbglz5r00000gn/T/ipykernel_97685/3809779533.py:28: LangChainDeprecationWarning: The class `TavilySearchResults` was deprecated in LangChain 0.3.25 and will be removed in 1.0. An updated version of the class exists in the :class:`~langchain-tavily package and should be used instead. To use it run `pip install -U :class:`~langchain-tavily` and import as `from :class:`~langchain_tavily import TavilySearch``.\n",
      "  tavily = TavilySearchResults()\n"
     ]
    }
   ],
   "source": [
    "# Created Wikipedia tool object \n",
    "from langchain_community.tools import WikipediaQueryRun\n",
    "from langchain_community.utilities import WikipediaAPIWrapper\n",
    "wikipedia = WikipediaQueryRun(api_wrapper=WikipediaAPIWrapper())\n",
    "print(wikipedia.description)\n",
    "\n",
    "\n",
    "# Created arxiv tool\n",
    "from langchain_community.tools import ArxivQueryRun\n",
    "from langchain_community.utilities import ArxivAPIWrapper\n",
    "arxiv_tool = ArxivQueryRun(api_wrapper = ArxivAPIWrapper())\n",
    "print(arxiv_tool.description)\n",
    "\n",
    "# tool for doing Web Searcg\n",
    "import os\n",
    "from dotenv import load_dotenv\n",
    "load_dotenv()\n",
    "os.environ[\"OPENAI_API_KEY\"] = os.getenv(\"OPENAI_API_KEY\")\n",
    "os.environ[\"GROQ_API_KEY\"]= os.getenv(\"GROQ_API_KEY\")\n",
    "os.environ[\"GOOGLE_API_KEY\"]= os.getenv(\"GOOGLE_API_KEY\")\n",
    "\n",
    "os.environ[\"LANGCHAIN_API_KEY\"]= os.getenv(\"LANGCHAIN_API_KEY\")\n",
    "os.environ[\"LANGCHAIN_PROJECT\"]= os.getenv(\"LANGCHAIN_PROJECT\")\n",
    "os.environ[\"LANGCHAIN_TRACING_V2\"]= os.getenv(\"LANGCHAIN_TRACING_V2\")\n",
    "os.environ[\"TAVILY_API_KEY\"]= os.getenv(\"TAVILY_API_KEY\")\n",
    "\n",
    "from langchain_community.tools.tavily_search import TavilySearchResults\n",
    "tavily = TavilySearchResults()\n",
    "\n",
    "\n",
    "# Define Tools \n",
    "def my_add(a:int, b:int)-> int:\n",
    "    \"\"\"  Addition of a and b and not multiplication\n",
    "    Args:\n",
    "        a(int) : first int\n",
    "        b(int) : second int\n",
    "    Return:\n",
    "        int:\n",
    "    \"\"\"\n",
    "    return a+b\n",
    "\n",
    "def my_mult(a:int, b:int)-> int:\n",
    "    \"\"\" Multiplication of a and b and not addition. \n",
    "    Args:\n",
    "        a(int) : first int\n",
    "        b(int) : second int\n",
    "    Return:\n",
    "        int:\n",
    "    \"\"\"\n",
    "    return a*b\n",
    "\n",
    "def my_div(a:int, b:int)-> float:\n",
    "    \"\"\"\n",
    "        Divide a by b and do not do addition or multiplication\n",
    "\n",
    "    Args:\n",
    "        a: first int\n",
    "        b: second int\n",
    "    \"\"\"\n",
    "    return a/b\n",
    "\n",
    "tools = [wikipedia,arxiv_tool,tavily,my_add,my_mult,my_div]\n",
    "\n",
    "# Question : Can you tell me what is the recent Agentic AI updates in July 2025 ? And also can you add 10 and 20?"
   ]
  },
  {
   "cell_type": "code",
   "execution_count": 2,
   "id": "bb1d5be8",
   "metadata": {},
   "outputs": [],
   "source": [
    "# Define our LLM\n",
    "from langchain_openai import ChatOpenAI\n",
    "llm_openai = ChatOpenAI(model = \"gpt-4o-mini\")\n",
    "llm_with_tools = llm_openai.bind_tools(tools)\n"
   ]
  },
  {
   "cell_type": "code",
   "execution_count": 3,
   "id": "cd6440f3",
   "metadata": {},
   "outputs": [
    {
     "data": {
      "image/png": "[encoded data removed]",
      "text/plain": [
       "<IPython.core.display.Image object>"
      ]
     },
     "metadata": {},
     "output_type": "display_data"
    }
   ],
   "source": [
    "# Create the bot \n",
    "# Step1 - Create state for agent\n",
    "from typing_extensions import TypedDict\n",
    "from typing import Annotated\n",
    "from langgraph.graph.message import add_messages\n",
    "\n",
    "class State(TypedDict):\n",
    "    messages:Annotated[list,add_messages]\n",
    "\n",
    "# Step 2: Node definitions\n",
    "from langgraph.graph import StateGraph, START,END\n",
    "from langgraph.prebuilt import ToolNode\n",
    "from langgraph.prebuilt import tools_condition\n",
    "from IPython.display import Image,display\n",
    "\n",
    "# Node definitions\n",
    "def my_own_bot_with_tools(state: State):\n",
    "    return {\"messages\":[llm_with_tools.invoke(state['messages'])]}\n",
    "\n",
    "builder = StateGraph(State)\n",
    "\n",
    "# Add nodes\n",
    "builder.add_node(\"my_own_bot_with_tools\",my_own_bot_with_tools)\n",
    "builder.add_node(\"tools\",ToolNode(tools))\n",
    "\n",
    "#Add edges\n",
    "# Edges\n",
    "builder.add_edge(START,\"my_own_bot_with_tools\")\n",
    "builder.add_conditional_edges(\"my_own_bot_with_tools\",tools_condition)\n",
    "builder.add_edge(\"tools\",\"my_own_bot_with_tools\")\n",
    "builder.add_edge(\"my_own_bot_with_tools\",END)\n",
    "\n",
    "graph_builder = builder.compile()\n",
    "display(Image(graph_builder.get_graph().draw_mermaid_png()))"
   ]
  },
  {
   "cell_type": "code",
   "execution_count": 4,
   "id": "b8b5fe1b",
   "metadata": {},
   "outputs": [
    {
     "name": "stdout",
     "output_type": "stream",
     "text": [
      "================================\u001b[1m Human Message \u001b[0m=================================\n",
      "\n",
      "Give me top 2 recent Agentic AI developments in July 2025.Also, add 10 plus 20 . AFter that , divide 30 by 15.\n",
      "==================================\u001b[1m Ai Message \u001b[0m==================================\n",
      "Tool Calls:\n",
      "  tavily_search_results_json (call_O9c2wmLjaKHIaOcANOOvTyuF)\n",
      " Call ID: call_O9c2wmLjaKHIaOcANOOvTyuF\n",
      "  Args:\n",
      "    query: recent Agentic AI developments July 2025\n",
      "  my_add (call_il6ZNrO7VB9xVvlCp65LWmDm)\n",
      " Call ID: call_il6ZNrO7VB9xVvlCp65LWmDm\n",
      "  Args:\n",
      "    a: 10\n",
      "    b: 20\n",
      "  my_div (call_KxxhW3v1S0F5bYEQfmLS6BBJ)\n",
      " Call ID: call_KxxhW3v1S0F5bYEQfmLS6BBJ\n",
      "  Args:\n",
      "    a: 30\n",
      "    b: 15\n",
      "=================================\u001b[1m Tool Message \u001b[0m=================================\n",
      "Name: tavily_search_results_json\n",
      "\n",
      "[{\"title\": \"Agentic AI and Security Research Roundup - July 25, 2025\", \"url\": \"https://kenhuangus.substack.com/p/agentic-ai-and-security-research\", \"content\": \"Recent developments have revealed a striking paradox in agentic AI development: as these systems become more capable and widely deployed, the security and alignment challenges are growing exponentially. While we celebrate achievements like DeepMind's mathematical olympiad gold medal and the practical deployment of agents in enterprise environments, the simultaneous emergence of rogue agents, vulnerability multiplication, and the admission that safety mechanisms can teach AI systems to \\\"scheme [...] This development coincides with OpenAI's preparation to launch GPT-5 in August, according to The Verge's sources familiar with the plans. The timing suggests that agentic capabilities are becoming a core competitive differentiator, even as safety concerns mount. The company's partnership with Outtake demonstrates practical applications, where AI agents resolve cybersecurity attacks \\\"in hours\\\" through automated detection and remediation. [...] Simultaneously, Anthropic launched Claude Opus 4 and Claude Sonnet 4, with Opus 4 being positioned as their \\\"most powerful model yet\\\" and the \\\"world's best coding model\\\". The company also introduced sub-agents functionality through a new \\\"/Agents\\\" command, expanding the agentic capabilities available to developers. These developments suggest that major AI labs are racing to deploy increasingly sophisticated agentic systems while attempting to maintain safety through automated oversight\", \"score\": 0.92343384}, {\"title\": \"AWS launches agentic AI tools and major cloud service upgrades\", \"url\": \"https://www.aboutamazon.com/news/aws/aws-summit-agentic-ai-innovations-2025\", \"content\": \"# AWS announces new innovations for building AI agents at AWS Summit New York 2025\\n\\nAmazon Bedrock AgentCore leads the announcements, alongside new listings in AWS Marketplace and a $100 million investment to boost agentic AI development.\\n\\nAmazon Staff\\n\\nWritten by Amazon Staff\\n\\nJuly 16, 2025\\n\\n7 min read\\n\\n## Key takeaways\\n\\n## Deploy and operate AI agents at scale with Amazon Bedrock AgentCore\\n\\nAmazon Bedrock AgentCore\\nSwami Sivasubramanian on stage at AWS Summit New York [...] The Pennsylvania Energy and Innovation Summit brought together Amazon leadership, policymakers, and energy and AI executives to advance U.S. technological leadership.\\n\\n## More news from AWS Summit in New York\\n\\n### New Amazon Nova customization capabilities enable customers to build with higher accuracy and flexibility for their needs\\n\\nRohit Prasad, SVP & Head Scientist, Artificial General Intelligence on stage at AWS Summit New York 2025.\\n\\n### Amazon S3 Vectors preview launches [...] A man pushing cart within a data center.\\n\\n## Meet Project Rainier, Amazon’s one-of-a-kind machine ushering in the next generation of AI\\n\\nOur new AI “compute cluster” will connect hundreds of thousands of Trainium2 chips across the U.S.\\n\\n### Kiro bridges AI prototyping and production code\\n\\n### New MCP resources will make it easier to build in the agentic world\\n\\n### TwelveLabs AI models are now available in Amazon Bedrock\\n\\n### AWS and Meta team up for startups\\n\\nLlama 4 models from Meta on AWS\", \"score\": 0.90985113}, {\"title\": \"AI Update, July 18, 2025: AI News and Views From the Past Week\", \"url\": \"https://www.marketingprofs.com/opinions/2025/53455/ai-update-july-18-2025-ai-news-and-views-from-the-past-week\", \"content\": \"data leakage. This rollout marks OpenAI's biggest step toward practical agentic AI that takes autonomous action on users' behalf. Importance for marketers: Enables automation of research, reporting, and task management, freeing time for strategic decision-making. [...] Perplexity's Comet browser redefines productivity with agentic AI. Comet, Perplexity AI's Chromium-based browser, introduces agentic browsing that allows users to offload tasks like trip planning, restaurant booking, and deal-hunting to an embedded assistant. Users can engage with the AI agent to perform real-time research while continuing other tasks, increasing efficiency. Though still in beta, Comet represents a shift toward AI-integrated Internet navigation. It emphasizes hands-free Web [...] activity and productivity gains, echoing the push for agent-first computing. Importance for marketers: Highlights a new AI touchpoint—agent-powered browsers—that may influence how consumers search, shop, and engage with content.\", \"score\": 0.8652358}, {\"title\": \"How AI Agents Actually Work: July 2025 | by Berto Mill - Medium\", \"url\": \"https://medium.com/@bertomill/how-ai-agents-actually-work-july-2025-fe44405be906\", \"content\": \"Sign up\\n\\nSign in\\n\\nSign up\\n\\nSign in\\n\\n# How AI Agents Actually Work: July 2025\\n\\nBerto Mill\\n\\n--\\n\\nListen\\n\\nShare\\n\\nAgents have fully established themselves in 2025: Artificial intelligence is evolving from simple task automation to sophisticated agentic systems that can perform complex, multi-step operations. While there’s a lot of excitement, the actual implementation is quite simple. [...] Enhanced RAG for Knowledge Bases: Agentic retrieval-augmented generation (RAG) surpasses traditional search by inserting intelligent agents into the loop. Agents decompose user queries into targeted sub-queries, retrieve multiple relevant chunks, verify consistency, and iterate as needed. [...] Software Development Augmentation: AI agents handle bug fixes, code generation, and commit messages by searching codebases, consulting external documentation, and calling specialized experts for different programming languages. Tools like Windsurf and Cursor leverage this approach extensively.\", \"score\": 0.8342047}, {\"title\": \"The Explosive Rise of Agentic AI in 2025: Trends That Will Redefine ...\", \"url\": \"https://lightcapai.medium.com/the-explosive-rise-of-agentic-ai-in-2025-trends-that-will-redefine-your-world-f2b30ff416de\", \"content\": \"Last but not least, 2025 is witnessing an AI democratization revolution. What does that mean? In short, the barriers to accessing advanced AI are coming down fast, thanks to open-source communities and decentralized tech. Remember when cutting-edge AI was only in the hands of a few big labs with supercomputers? That’s changing. We now have powerful AI models being shared openly, and new blockchain-based platforms aiming to decentralize who controls data and models. This trend is all about [...] accessibility, transparency, and community-driven progress. [...] # 2. Multimodal AI: Blending Text, Images, Video and More\", \"score\": 0.6854659}]\n",
      "=================================\u001b[1m Tool Message \u001b[0m=================================\n",
      "Name: my_add\n",
      "\n",
      "30\n",
      "=================================\u001b[1m Tool Message \u001b[0m=================================\n",
      "Name: my_div\n",
      "\n",
      "2.0\n",
      "==================================\u001b[1m Ai Message \u001b[0m==================================\n",
      "\n",
      "### Recent Agentic AI Developments in July 2025\n",
      "\n",
      "1. **DeepMind and Safety Mechanisms**: \n",
      "   - Title: [Agentic AI and Security Research Roundup - July 25, 2025](https://kenhuangus.substack.com/p/agentic-ai-and-security-research)\n",
      "   - Key Points: Significant advancements in agentic AI are being overshadowed by growing security and alignment challenges. Notable achievements include DeepMind winning a mathematical olympiad and the deployment of AI agents in cybersecurity, which can resolve issues within hours. OpenAI is set to launch GPT-5, reflecting a competitive emphasis on agentic capabilities despite mounting safety concerns.\n",
      "\n",
      "2. **AWS Innovations**:\n",
      "   - Title: [AWS launches agentic AI tools and major cloud service upgrades](https://www.aboutamazon.com/news/aws/aws-summit-agentic-ai-innovations-2025)\n",
      "   - Key Points: At the AWS Summit in New York, Amazon announced Amazon Bedrock AgentCore, aimed at building AI agents at scale along with a $100 million investment for agentic AI development. This initiative includes new customization capabilities and features to enhance the deployment and operation of AI agents.\n",
      "\n",
      "### Additional Math Results\n",
      "\n",
      "- **10 + 20 =** 30\n",
      "- **30 ÷ 15 =** 2\n"
     ]
    }
   ],
   "source": [
    "from pprint import pprint\n",
    "messages = graph_builder.invoke({\"messages\":\"Give me top 2 recent Agentic AI developments in July 2025.Also, add 10 plus 20 . AFter that , divide 30 by 15.\"})\n",
    "for m in messages['messages']:\n",
    "    m.pretty_print()"
   ]
  },
  {
   "cell_type": "code",
   "execution_count": null,
   "id": "368f0b59",
   "metadata": {},
   "outputs": [],
   "source": [
    "# Benefits of this : \n",
    "# - Allows you to do multistep workflows ... \n",
    "# - Everyone gives their result back to the LLM and then LLM returns it back \n"
   ]
  },
  {
   "cell_type": "code",
   "execution_count": 5,
   "id": "8e40f109",
   "metadata": {},
   "outputs": [
    {
     "name": "stdout",
     "output_type": "stream",
     "text": [
      "================================\u001b[1m Human Message \u001b[0m=================================\n",
      "\n",
      "Add 10 plus 20\n",
      "==================================\u001b[1m Ai Message \u001b[0m==================================\n",
      "Tool Calls:\n",
      "  my_add (call_YnYbrPqcuvkO7oiBCUbsb0au)\n",
      " Call ID: call_YnYbrPqcuvkO7oiBCUbsb0au\n",
      "  Args:\n",
      "    a: 10\n",
      "    b: 20\n",
      "=================================\u001b[1m Tool Message \u001b[0m=================================\n",
      "Name: my_add\n",
      "\n",
      "30\n",
      "==================================\u001b[1m Ai Message \u001b[0m==================================\n",
      "\n",
      "10 plus 20 equals 30.\n"
     ]
    }
   ],
   "source": [
    "from pprint import pprint\n",
    "messages = graph_builder.invoke({\"messages\":\"Add 10 plus 20\"})\n",
    "for m in messages['messages']:\n",
    "    m.pretty_print()"
   ]
  },
  {
   "cell_type": "code",
   "execution_count": 6,
   "id": "1264d164",
   "metadata": {},
   "outputs": [
    {
     "name": "stdout",
     "output_type": "stream",
     "text": [
      "================================\u001b[1m Human Message \u001b[0m=================================\n",
      "\n",
      "Divide the last result by 10\n",
      "==================================\u001b[1m Ai Message \u001b[0m==================================\n",
      "\n",
      "It seems that I don't have access to the last result you are referring to. Could you please provide the number you would like to divide by 10?\n"
     ]
    }
   ],
   "source": [
    "from pprint import pprint\n",
    "messages = graph_builder.invoke({\"messages\":\"Divide the last result by 10\"})\n",
    "for m in messages['messages']:\n",
    "    m.pretty_print()"
   ]
  },
  {
   "cell_type": "code",
   "execution_count": null,
   "id": "34536063",
   "metadata": {},
   "outputs": [
    {
     "data": {
      "image/png": "[encoded data removed]",
      "text/plain": [
       "<IPython.core.display.Image object>"
      ]
     },
     "metadata": {},
     "output_type": "display_data"
    }
   ],
   "source": [
    "# Memorysaver\n",
    "# Langgraph can use a checkpoint to automatically save the graph state after each step\n",
    "# This built in persistence layer gives us memory , allowing langgraph to pick from last state update\n",
    "# One of teh easiest checkpoints to use is MemorySaver(), an in-memory key value store for storing graph states\n",
    "# All we need to do is simply compile the graph with tehe checkpint and our graph will have memory \n",
    "\n",
    "# Define our LLM\n",
    "from langchain_openai import ChatOpenAI\n",
    "llm_openai = ChatOpenAI(model = \"gpt-4o-mini\")\n",
    "llm_with_tools = llm_openai.bind_tools(tools)\n",
    "\n",
    "# Create the bot \n",
    "# Step1 - Create state for agent\n",
    "from typing_extensions import TypedDict\n",
    "from typing import Annotated\n",
    "from langgraph.graph.message import add_messages\n",
    "\n",
    "class State(TypedDict):\n",
    "    messages:Annotated[list,add_messages]\n",
    "\n",
    "# Step 2: Node definitions\n",
    "from langgraph.graph import StateGraph, START,END\n",
    "from langgraph.prebuilt import ToolNode\n",
    "from langgraph.prebuilt import tools_condition\n",
    "from IPython.display import Image,display\n",
    "\n",
    "# Node definitions\n",
    "def my_own_bot_with_tools(state: State):\n",
    "    return {\"messages\":[llm_with_tools.invoke(state['messages'])]}\n",
    "\n",
    "builder = StateGraph(State)\n",
    "\n",
    "# Add nodes\n",
    "builder.add_node(\"my_own_bot_with_tools\",my_own_bot_with_tools)\n",
    "builder.add_node(\"tools\",ToolNode(tools))\n",
    "\n",
    "#Add edges\n",
    "# Edges\n",
    "builder.add_edge(START,\"my_own_bot_with_tools\")\n",
    "builder.add_conditional_edges(\"my_own_bot_with_tools\",tools_condition)\n",
    "builder.add_edge(\"tools\",\"my_own_bot_with_tools\")\n",
    "builder.add_edge(\"my_own_bot_with_tools\",END)\n",
    "\n",
    "# Added these 3 lines for the agent to have memory \n",
    "from langgraph.checkpoint.memory import MemorySaver\n",
    "memory = MemorySaver()\n",
    "graph_memory = builder.compile(checkpointer=memory)\n",
    "display(Image(graph_memory.get_graph().draw_mermaid_png()))\n"
   ]
  },
  {
   "cell_type": "code",
   "execution_count": null,
   "id": "23f47eb6",
   "metadata": {},
   "outputs": [
    {
     "name": "stdout",
     "output_type": "stream",
     "text": [
      "================================\u001b[1m Human Message \u001b[0m=================================\n",
      "\n",
      "Add 12 and 18 \n",
      "==================================\u001b[1m Ai Message \u001b[0m==================================\n",
      "Tool Calls:\n",
      "  my_add (call_L6Xwe1iMrmnAmOIGM8FGKAav)\n",
      " Call ID: call_L6Xwe1iMrmnAmOIGM8FGKAav\n",
      "  Args:\n",
      "    a: 12\n",
      "    b: 18\n",
      "=================================\u001b[1m Tool Message \u001b[0m=================================\n",
      "Name: my_add\n",
      "\n",
      "30\n",
      "==================================\u001b[1m Ai Message \u001b[0m==================================\n",
      "\n",
      "The sum of 12 and 18 is 30.\n"
     ]
    }
   ],
   "source": [
    "# Specify the thread\n",
    "# Assume if you running multi user application--- u have a frontend\n",
    "# so for each user u need to maintain separate memory\n",
    "# each user will need to have separate threadid \n",
    "config = {\"configurable\":{\"thread_id\":\"123\"}}\n",
    "# Specify an input\n",
    "from pprint import pprint\n",
    "messages = graph_memory.invoke({\"messages\":\"Add 12 and 18 \"},config=config)\n",
    "for m in messages['messages']:\n",
    "    m.pretty_print()\n"
   ]
  },
  {
   "cell_type": "code",
   "execution_count": 9,
   "id": "f3e16262",
   "metadata": {},
   "outputs": [
    {
     "name": "stdout",
     "output_type": "stream",
     "text": [
      "================================\u001b[1m Human Message \u001b[0m=================================\n",
      "\n",
      "Add 12 and 18 \n",
      "==================================\u001b[1m Ai Message \u001b[0m==================================\n",
      "Tool Calls:\n",
      "  my_add (call_L6Xwe1iMrmnAmOIGM8FGKAav)\n",
      " Call ID: call_L6Xwe1iMrmnAmOIGM8FGKAav\n",
      "  Args:\n",
      "    a: 12\n",
      "    b: 18\n",
      "=================================\u001b[1m Tool Message \u001b[0m=================================\n",
      "Name: my_add\n",
      "\n",
      "30\n",
      "==================================\u001b[1m Ai Message \u001b[0m==================================\n",
      "\n",
      "The sum of 12 and 18 is 30.\n",
      "================================\u001b[1m Human Message \u001b[0m=================================\n",
      "\n",
      "Divide the last result by 10\n",
      "==================================\u001b[1m Ai Message \u001b[0m==================================\n",
      "Tool Calls:\n",
      "  my_div (call_NmzJdUTlAz7mc8Dja8Lu2R9k)\n",
      " Call ID: call_NmzJdUTlAz7mc8Dja8Lu2R9k\n",
      "  Args:\n",
      "    a: 30\n",
      "    b: 10\n",
      "=================================\u001b[1m Tool Message \u001b[0m=================================\n",
      "Name: my_div\n",
      "\n",
      "3.0\n",
      "==================================\u001b[1m Ai Message \u001b[0m==================================\n",
      "\n",
      "The result of dividing 30 by 10 is 3.0.\n"
     ]
    }
   ],
   "source": [
    "messages = graph_memory.invoke({\"messages\":\"Divide the last result by 10\"},config=config)\n",
    "for m in messages['messages']:\n",
    "    m.pretty_print()"
   ]
  },
  {
   "cell_type": "code",
   "execution_count": 10,
   "id": "e722d407",
   "metadata": {},
   "outputs": [
    {
     "name": "stdout",
     "output_type": "stream",
     "text": [
      "================================\u001b[1m Human Message \u001b[0m=================================\n",
      "\n",
      "Can you tell me what is Agentic RAG?\n",
      "==================================\u001b[1m Ai Message \u001b[0m==================================\n",
      "Tool Calls:\n",
      "  wikipedia (call_Dwdo0PI1ut17IK0baK7ZfJk7)\n",
      " Call ID: call_Dwdo0PI1ut17IK0baK7ZfJk7\n",
      "  Args:\n",
      "    query: Agentic RAG\n",
      "=================================\u001b[1m Tool Message \u001b[0m=================================\n",
      "Name: wikipedia\n",
      "\n",
      "Page: Retrieval-augmented generation\n",
      "Summary: Retrieval-augmented generation (RAG) is a technique that enables large language models (LLMs) to retrieve and incorporate new information. With RAG, LLMs do not respond to user queries until they refer to a specified set of documents. These documents supplement information from the LLM's pre-existing training data. This allows LLMs to use domain-specific and/or updated information that is not available in the training data. For example, this helps LLM-based chatbots access internal company data or generate responses based on authoritative sources.\n",
      "RAG improves large language models (LLMs) by incorporating information retrieval before generating responses. Unlike traditional LLMs that rely on static training data, RAG pulls relevant text from databases, uploaded documents, or web sources. According to Ars Technica, \"RAG is a way of improving LLM performance, in essence by blending the LLM process with a web search or other document look-up process to help LLMs stick to the facts.\" This method helps reduce AI hallucinations, which have caused chatbots to describe policies that don't exist, or recommend nonexistent legal cases to lawyers that are looking for citations to support their arguments.\n",
      "RAG also reduces the need to retrain LLMs with new data, saving on computational and financial costs. Beyond efficiency gains, RAG also allows LLMs to include sources in their responses, so users can verify the cited sources. This provides greater transparency, as users can cross-check retrieved content to ensure accuracy and relevance.\n",
      "The term RAG was first introduced in a 2020 research paper from Meta.\n",
      "\n",
      "Page: Large language model\n",
      "Summary: A large language model (LLM) is a language model trained with self-supervised machine learning on a vast amount of text, designed for natural language processing tasks, especially language generation.\n",
      "The largest and most capable LLMs are generative pretrained transformers (GPTs), which are largely used in generative chatbots such as ChatGPT, Gemini or Claude. LLMs can be fine-tuned for specific tasks or guided by prompt engineering. These models acquire predictive power regarding syntax, semantics, and ontologies inherent in human language corpora, but they also inherit inaccuracies and biases present in the data they are trained in.\n",
      "\n",
      "Page: Contextual AI\n",
      "Summary: Contextual AI is an enterprise software company based in Mountain View, California. It develops a platform for building specialized Retrieval-Augmented Generation (RAG) agents for enterprise use. The company was founded in 2023 by Douwe Kiela and Amanpreet Singh, both former AI researchers at Facebook AI Research (FAIR) and Hugging Face. Douwe Kiela previously led the Meta research team that introduced the Retrieval-Augmented Generation (RAG) approach in 2020.\n",
      "Contextual AI focuses on enterprise generative AI applications using RAG 2.0 technology, with deployments primarily in the technology, banking, finance and media sectors.\n",
      "==================================\u001b[1m Ai Message \u001b[0m==================================\n",
      "\n",
      "Agentic RAG refers to a specialized application of Retrieval-Augmented Generation (RAG) technology, particularly in the context of enterprise software solutions. \n",
      "\n",
      "### What is Retrieval-Augmented Generation (RAG)?\n",
      "RAG is a method that enhances large language models (LLMs) by integrating information retrieval capabilities before generating responses. This allows LLMs to access a specified set of documents to retrieve supplementary information, thus incorporating more relevant and updated information beyond their pre-existing training data. This method helps in improving the accuracy of responses, reducing the chances of misinformation (also known as AI hallucinations), and increasing transparency by allowing users to verify sources.\n",
      "\n",
      "### Contextual AI\n",
      "One of the companies that have been founded to work with RAG technology is Contextual AI, based in Mountain View, California. Founded by former AI researchers from Facebook AI Research, Contextual AI specializes in building enterprise-grade agents that leverage RAG 2.0 technology, focusing on sectors like technology, banking, finance, and media.\n",
      "\n",
      "In summary, Agentic RAG represents the application of RAG in building intelligent agents for enterprise use, facilitating better access to relevant information and improving the responses generated by AI systems.\n"
     ]
    }
   ],
   "source": [
    "config = {\"configurable\":{\"thread_id\":\"456\"}}\n",
    "# Specify an input\n",
    "from pprint import pprint\n",
    "messages = graph_memory.invoke({\"messages\":\"Can you tell me what is Agentic RAG?\"},config=config)\n",
    "for m in messages['messages']:\n",
    "    m.pretty_print()"
   ]
  },
  {
   "cell_type": "code",
   "execution_count": 11,
   "id": "d0220a6a",
   "metadata": {},
   "outputs": [
    {
     "name": "stdout",
     "output_type": "stream",
     "text": [
      "================================\u001b[1m Human Message \u001b[0m=================================\n",
      "\n",
      "Can you tell me what is Agentic RAG?\n",
      "==================================\u001b[1m Ai Message \u001b[0m==================================\n",
      "Tool Calls:\n",
      "  wikipedia (call_Dwdo0PI1ut17IK0baK7ZfJk7)\n",
      " Call ID: call_Dwdo0PI1ut17IK0baK7ZfJk7\n",
      "  Args:\n",
      "    query: Agentic RAG\n",
      "=================================\u001b[1m Tool Message \u001b[0m=================================\n",
      "Name: wikipedia\n",
      "\n",
      "Page: Retrieval-augmented generation\n",
      "Summary: Retrieval-augmented generation (RAG) is a technique that enables large language models (LLMs) to retrieve and incorporate new information. With RAG, LLMs do not respond to user queries until they refer to a specified set of documents. These documents supplement information from the LLM's pre-existing training data. This allows LLMs to use domain-specific and/or updated information that is not available in the training data. For example, this helps LLM-based chatbots access internal company data or generate responses based on authoritative sources.\n",
      "RAG improves large language models (LLMs) by incorporating information retrieval before generating responses. Unlike traditional LLMs that rely on static training data, RAG pulls relevant text from databases, uploaded documents, or web sources. According to Ars Technica, \"RAG is a way of improving LLM performance, in essence by blending the LLM process with a web search or other document look-up process to help LLMs stick to the facts.\" This method helps reduce AI hallucinations, which have caused chatbots to describe policies that don't exist, or recommend nonexistent legal cases to lawyers that are looking for citations to support their arguments.\n",
      "RAG also reduces the need to retrain LLMs with new data, saving on computational and financial costs. Beyond efficiency gains, RAG also allows LLMs to include sources in their responses, so users can verify the cited sources. This provides greater transparency, as users can cross-check retrieved content to ensure accuracy and relevance.\n",
      "The term RAG was first introduced in a 2020 research paper from Meta.\n",
      "\n",
      "Page: Large language model\n",
      "Summary: A large language model (LLM) is a language model trained with self-supervised machine learning on a vast amount of text, designed for natural language processing tasks, especially language generation.\n",
      "The largest and most capable LLMs are generative pretrained transformers (GPTs), which are largely used in generative chatbots such as ChatGPT, Gemini or Claude. LLMs can be fine-tuned for specific tasks or guided by prompt engineering. These models acquire predictive power regarding syntax, semantics, and ontologies inherent in human language corpora, but they also inherit inaccuracies and biases present in the data they are trained in.\n",
      "\n",
      "Page: Contextual AI\n",
      "Summary: Contextual AI is an enterprise software company based in Mountain View, California. It develops a platform for building specialized Retrieval-Augmented Generation (RAG) agents for enterprise use. The company was founded in 2023 by Douwe Kiela and Amanpreet Singh, both former AI researchers at Facebook AI Research (FAIR) and Hugging Face. Douwe Kiela previously led the Meta research team that introduced the Retrieval-Augmented Generation (RAG) approach in 2020.\n",
      "Contextual AI focuses on enterprise generative AI applications using RAG 2.0 technology, with deployments primarily in the technology, banking, finance and media sectors.\n",
      "==================================\u001b[1m Ai Message \u001b[0m==================================\n",
      "\n",
      "Agentic RAG refers to a specialized application of Retrieval-Augmented Generation (RAG) technology, particularly in the context of enterprise software solutions. \n",
      "\n",
      "### What is Retrieval-Augmented Generation (RAG)?\n",
      "RAG is a method that enhances large language models (LLMs) by integrating information retrieval capabilities before generating responses. This allows LLMs to access a specified set of documents to retrieve supplementary information, thus incorporating more relevant and updated information beyond their pre-existing training data. This method helps in improving the accuracy of responses, reducing the chances of misinformation (also known as AI hallucinations), and increasing transparency by allowing users to verify sources.\n",
      "\n",
      "### Contextual AI\n",
      "One of the companies that have been founded to work with RAG technology is Contextual AI, based in Mountain View, California. Founded by former AI researchers from Facebook AI Research, Contextual AI specializes in building enterprise-grade agents that leverage RAG 2.0 technology, focusing on sectors like technology, banking, finance, and media.\n",
      "\n",
      "In summary, Agentic RAG represents the application of RAG in building intelligent agents for enterprise use, facilitating better access to relevant information and improving the responses generated by AI systems.\n",
      "================================\u001b[1m Human Message \u001b[0m=================================\n",
      "\n",
      "Can you write a 500 word blog on the above topic\n",
      "==================================\u001b[1m Ai Message \u001b[0m==================================\n",
      "\n",
      "### Understanding Agentic RAG: Revolutionizing Enterprise AI with Retrieval-Augmented Generation\n",
      "\n",
      "In the ever-evolving landscape of artificial intelligence, businesses strive to harness the power of technology to improve efficiency, decision-making, and customer engagement. One of the most promising advancements in this domain is Retrieval-Augmented Generation (RAG), a technique that enhances large language models (LLMs) by incorporating real-time information retrieval. In particular, Agentic RAG refers to the enterprise application of this technology, paving the way for intelligent agents that can significantly elevate operational capabilities.\n",
      "\n",
      "#### What is Retrieval-Augmented Generation (RAG)?\n",
      "\n",
      "At its core, RAG combines the strengths of information retrieval and language generation. Traditional LLMs rely on static training data to respond to queries, which means that they may sometimes provide outdated or inaccurate information. RAG addresses this limitation by allowing language models to access a curated set of documents or databases, retrieving relevant information before generating responses. This capability enables LLMs to produce contextually accurate and up-to-date answers—essential for industries that rely on current data to inform their strategies and decisions.\n",
      "\n",
      "RAG's architecture involves pulling in relevant text from authoritative sources, ensuring that the content generated is not only coherent but also factually accurate. This capability is crucial in mitigating the problem of AI hallucinations—scenarios where AI systems provide incorrect or fabricated information, which could mislead users and undermine trust in AI technologies.\n",
      "\n",
      "#### The Significance of Agentic RAG\n",
      "\n",
      "Agentic RAG elevates the RAG approach within enterprise contexts, focusing on creating specialized retrieval-augmented AI agents. These agents are tailored to meet the specific needs of organizations across various sectors including technology, finance, and media. By leveraging Agentic RAG, enterprises can access advanced AI capabilities that integrate seamlessly with their business operations.\n",
      "\n",
      "One of the main advantages of Agentic RAG is its ability to provide real-time, context-specific information to decision-makers. For instance, a financial institution can deploy an Agentic RAG agent to analyze and extract data from financial reports, regulatory documents, and market analyses. By synthesizing this information into actionable insights, organizations can make informed decisions and respond swiftly to evolving market conditions.\n",
      "\n",
      "Moreover, Agentic RAG enhances transparency by sourcing documents and presenting them alongside AI-generated insights. This not only allows users to verify the accuracy of the information but also instills confidence in AI-generated outputs. The ability to cross-check sources is essential in regulated industries where compliance and accountability are paramount.\n",
      "\n",
      "#### The Role of Contextual AI\n",
      "\n",
      "A key player in the development of Agentic RAG is Contextual AI, founded in 2023 by former researchers from Facebook AI Research. Contextual AI focuses on building enterprise-specific applications that utilize RAG technology, primarily in sectors that demand high accuracy and specialized knowledge.\n",
      "\n",
      "By prioritizing the needs of businesses, Contextual AI aims to redefine how enterprises interact with AI systems. With RAG 2.0 technology at the forefront, these applications empower organizations to automate complex processes, improve customer interactions, and enhance overall operational efficiency.\n",
      "\n",
      "#### Conclusion\n",
      "\n",
      "As the demand for smarter and more reliable AI systems grows, Agentic RAG stands out as a transformative approach in the realm of enterprise technology. By integrating real-time information retrieval with advanced language generation, businesses can create intelligent agents capable of providing accurate insights that drive better decision-making. With companies like Contextual AI leading the charge, the future of enterprise AI is poised for remarkable advancements, revolutionizing how organizations harness the power of data and artificial intelligence in their operations.\n"
     ]
    }
   ],
   "source": [
    "messages = graph_memory.invoke({\"messages\":\"Can you write a 500 word blog on the above topic\"},config=config)\n",
    "for m in messages['messages']:\n",
    "    m.pretty_print()"
   ]
  },
  {
   "cell_type": "code",
   "execution_count": null,
   "id": "bccc09c6",
   "metadata": {},
   "outputs": [],
   "source": []
  }
 ],
 "metadata": {
  "kernelspec": {
   "display_name": "Python 3",
   "language": "python",
   "name": "python3"
  },
  "language_info": {
   "codemirror_mode": {
    "name": "ipython",
    "version": 3
   },
   "file_extension": ".py",
   "mimetype": "text/x-python",
   "name": "python",
   "nbconvert_exporter": "python",
   "pygments_lexer": "ipython3",
   "version": "3.13.0"
  }
 },
 "nbformat": 4,
 "nbformat_minor": 5
}
