{
 "cells": [
  {
   "cell_type": "code",
   "execution_count": 10,
   "id": "56c8be18",
   "metadata": {},
   "outputs": [
    {
     "name": "stdout",
     "output_type": "stream",
     "text": [
      "finish_reason='stop' content='Agentic AI refers to AI systems capable of autonomous action and decision-making to achieve goals.\\n' usage=RequestUsage(prompt_tokens=10, completion_tokens=20) cached=False logprobs=None thought=None\n"
     ]
    }
   ],
   "source": [
    "from autogen_core.models import UserMessage\n",
    "from autogen_ext.models.openai import OpenAIChatCompletionClient\n",
    "\n",
    "import os\n",
    "from dotenv import load_dotenv\n",
    "load_dotenv()\n",
    "os.environ[\"OPENAI_API_KEY\"] = os.getenv(\"OPENAI_API_KEY\")\n",
    "os.environ[\"GROQ_API_KEY\"]= os.getenv(\"GROQ_API_KEY\")\n",
    "os.environ[\"GOOGLE_API_KEY\"]= os.getenv(\"GOOGLE_API_KEY\")\n",
    "\n",
    "os.environ[\"LANGCHAIN_API_KEY\"]= os.getenv(\"LANGCHAIN_API_KEY\")\n",
    "os.environ[\"LANGCHAIN_PROJECT\"]= os.getenv(\"LANGCHAIN_PROJECT\")\n",
    "os.environ[\"LANGCHAIN_TRACING_V2\"]= os.getenv(\"LANGCHAIN_TRACING_V2\")\n",
    "#os.environ[\"TAVILY_API_KEY\"]= os.getenv(\"TAVILY_API_KEY\")\n",
    "\n",
    "model_client = OpenAIChatCompletionClient(\n",
    "    model=\"gemini-1.5-flash-8b\",\n",
    "    api_key=os.environ[\"GOOGLE_API_KEY\"]\n",
    ")\n",
    "\n",
    "response = await model_client.create([UserMessage(content=\"What is Agentic AI in 1 sentence?\", source=\"user\")])\n",
    "\n",
    "print(response)\n",
    "await model_client.close()"
   ]
  },
  {
   "cell_type": "code",
   "execution_count": 11,
   "id": "e99191f7",
   "metadata": {},
   "outputs": [
    {
     "name": "stdout",
     "output_type": "stream",
     "text": [
      "finish_reason='stop' content='Agentic AI refers to artificial intelligence systems that possess the ability to act autonomously and make decisions based on their own understanding and objectives, rather than merely responding to human inputs.' usage=RequestUsage(prompt_tokens=18, completion_tokens=35) cached=False logprobs=None thought=None\n"
     ]
    }
   ],
   "source": [
    "model_client = OpenAIChatCompletionClient(\n",
    "    model=\"gpt-4o-mini\",\n",
    "    api_key=os.environ[\"OPENAI_API_KEY\"]\n",
    ")\n",
    "response = await model_client.create([UserMessage(content=\"What is Agentic AI in 1 sentence?\", source=\"user\")])\n",
    "\n",
    "print(response)\n",
    "await model_client.close()\n"
   ]
  },
  {
   "cell_type": "markdown",
   "id": "aaa7df02",
   "metadata": {},
   "source": [
    "# First Autogen Agent"
   ]
  },
  {
   "cell_type": "code",
   "execution_count": 12,
   "id": "71776532",
   "metadata": {},
   "outputs": [
    {
     "name": "stdout",
     "output_type": "stream",
     "text": [
      "messages=[TextMessage(id='6d2c84bb-2c2b-4535-ae78-d7aedf0eade8', source='user', models_usage=None, metadata={}, created_at=datetime.datetime(2025, 8, 8, 21, 38, 37, 822635, tzinfo=datetime.timezone.utc), content='Tell me a fun fact about OpenAI .', type='TextMessage'), TextMessage(id='965ef09f-e1b6-40b5-bce6-190684af786d', source='my_assistant', models_usage=RequestUsage(prompt_tokens=45, completion_tokens=83), metadata={}, created_at=datetime.datetime(2025, 8, 8, 21, 38, 40, 865446, tzinfo=datetime.timezone.utc), content='OpenAI was founded in December 2015 with the mission to ensure that artificial general intelligence (AGI) benefits all of humanity. What makes it fun is that OpenAI has transitioned from a non-profit to a \"capped-profit\" model, allowing investors to earn returns while still prioritizing their mission. This unconventional approach is aimed at navigating the balance between innovation and responsibility in AI development. \\n\\nTERMINATE', type='TextMessage')] stop_reason=None\n"
     ]
    }
   ],
   "source": [
    "from autogen_agentchat.agents import AssistantAgent\n",
    "from autogen_ext.models.openai import OpenAIChatCompletionClient\n",
    "from dotenv import load_dotenv\n",
    "import os\n",
    "\n",
    "load_dotenv()\n",
    "\n",
    "api_key = os.environ[\"OPENAI_API_KEY\"]\n",
    "\n",
    "\n",
    "# We use `OpenAIChatCompletionClient` to link our agent to GPT-4. \n",
    "# In v0.4, this replaces the older `llm_config` approach.\n",
    "model_client = OpenAIChatCompletionClient(model='gpt-4o-mini',api_key=api_key)\n",
    "\n",
    "# The `AssistantAgent` is a conversational AI that can respond to tasks. \n",
    "# We’ll give it a name and connect it to our model.\n",
    "assistant = AssistantAgent(name = 'my_assistant',model_client=model_client)\n",
    "\n",
    "#We’ll use the `run` method—a simple way in v0.4 to get a response. Watch this!\n",
    "result = await assistant.run(task = \"Tell me a fun fact about OpenAI .\")\n",
    "print(result)"
   ]
  },
  {
   "cell_type": "code",
   "execution_count": 13,
   "id": "57bc526f",
   "metadata": {},
   "outputs": [
    {
     "name": "stdout",
     "output_type": "stream",
     "text": [
      "OpenAI was founded in December 2015 with the mission to ensure that artificial general intelligence (AGI) benefits all of humanity. What makes it fun is that OpenAI has transitioned from a non-profit to a \"capped-profit\" model, allowing investors to earn returns while still prioritizing their mission. This unconventional approach is aimed at navigating the balance between innovation and responsibility in AI development. \n",
      "\n",
      "TERMINATE\n"
     ]
    }
   ],
   "source": [
    "print(result.messages[-1].content)"
   ]
  },
  {
   "cell_type": "code",
   "execution_count": 14,
   "id": "25f8b5e4",
   "metadata": {},
   "outputs": [
    {
     "name": "stdout",
     "output_type": "stream",
     "text": [
      "5 multiplied by 25 equals 125. \n",
      "\n",
      "TERMINATE\n"
     ]
    }
   ],
   "source": [
    "result = await assistant.run(task = \"Tell me what is 5*25\")\n",
    "print(result.messages[-1].content)"
   ]
  },
  {
   "cell_type": "markdown",
   "id": "375f3a60",
   "metadata": {},
   "source": [
    "# Autogen Architecture"
   ]
  },
  {
   "cell_type": "markdown",
   "id": "b631e27f",
   "metadata": {},
   "source": [
    "## 1. Introduction <a id='introduction'></a>\n",
    "AutoGen v0.4 is a framework for building **multi-agent AI systems** with an **asynchronous, event-driven architecture**. Key improvements over previous versions include:\n",
    "- A redesigned **Core** layer for scalability.\n",
    "- **AgentChat**, a simplified high-level API for agent interactions.\n",
    "- **Extensions** for integrating external tools and data.\n",
    "\n",
    "Official Quickstart: [AgentChat Quickstart](https://microsoft.github.io/autogen/stable/user-guide/agentchat-user-guide/quickstart.html)"
   ]
  },
  {
   "cell_type": "markdown",
   "id": "49b0e12b",
   "metadata": {},
   "source": [
    "## 2. Architecture Diagram <a id='diagram'></a>\n",
    "![AutoGen v0.4 Architecture](https://devblogs.microsoft.com/autogen/wp-content/uploads/sites/86/2025/01/a-screenshot-of-a-computer-ai-generated-content-m-4.png)\n",
    "\n",
    "The architecture is divided into three main sections:\n",
    "- **APPS**: Pre-built and custom applications.\n",
    "- **AG Framework**: Core components powering agents.\n",
    "- **Developer Tools**: Tools for testing and building."
   ]
  },
  {
   "cell_type": "markdown",
   "id": "ffea16f8",
   "metadata": {},
   "source": [
    "## 3. APPS Layer <a id='apps'></a>\n",
    "### a. **Magentic-One** ( Pre built application by MS - Ignore)\n",
    "- **Purpose**: A pre-built application demonstrating multi-agent collaboration (e.g., group problem-solving).\n",
    "- **Role**: Serves as a reference implementation for developers.\n",
    "- **GitHub Reference**: Explore the code at [microsoft/autogen](https://github.com/microsoft/autogen/tree/main/notebook).\n",
    "\n",
    "### b. **Your App Here** ( Here you build your application)\n",
    "- **Purpose**: A customizable space for user-defined applications.\n",
    "- **Use Cases**:\n",
    "  - Customer service chatbots.\n",
    "  - AI research assistants.\n",
    "  - Automated content generation workflows.\n",
    "- **Flexibility**: Integrates with LLMs (GPT-4, local models) via the AG Framework."
   ]
  },
  {
   "cell_type": "markdown",
   "id": "7aac2dfe",
   "metadata": {},
   "source": [
    "## 4. AG Framework Layer <a id='ag-framework'></a>\n",
    "### a. **Core** ( It is foundation layer - Event driven , asynchronous)\n",
    "- **Design**: Asynchronous, event-driven architecture using an **actor model**.\n",
    "- **Key Features**:\n",
    "  - Agents act independently and react to events (e.g., messages, API calls).\n",
    "  - Supports parallel task execution for scalability.\n",
    "  - Documentation: [Core Architecture](https://microsoft.github.io/autogen/stable/user-guide/architecture.html).\n",
    "\n",
    "### b. **AgentChat** ( This is the API layer - used for task oriented agent building)\n",
    "- **Purpose**: Simplifies building conversational agents.\n",
    "- **Key Features**:\n",
    "  - Predefined agent roles (e.g., `AssistantAgent`, `UserProxyAgent`).\n",
    "  - Handles message routing and state management.\n",
    "  - Documentation: [AgentChat Guide](https://microsoft.github.io/autogen/stable/user-guide/agentchat-user-guide/introduction.html).\n",
    "\n",
    "### c. **Extensions** ( adding flexibility to connect with external data and tools )\n",
    "- **Purpose**: Extend functionality via plugins.\n",
    "- **Types**:\n",
    "  - **Official Extensions**: OpenAI/Azure connectors, math tools.\n",
    "  - **Custom Extensions**: Integrate APIs (e.g., weather data, databases).\n",
    "- **Documentation**: [Extensions Guide](https://microsoft.github.io/autogen/stable/user-guide/extensions.html)."
   ]
  },
  {
   "cell_type": "markdown",
   "id": "68f8334c",
   "metadata": {},
   "source": [
    "## 5. Developer Tools <a id='developer-tools'></a>\n",
    "### a. **Bench**\n",
    "- **Purpose**: Benchmark agent performance and scalability.\n",
    "- **Use Cases**:\n",
    "  - Measure latency under heavy loads.\n",
    "  - Optimize resource usage (e.g., API costs).\n",
    "- **Documentation**: [Performance Testing](https://microsoft.github.io/autogen/stable/user-guide/performance.html).\n",
    "\n",
    "### b. **Studio**\n",
    "- **Purpose**: No-code/low-code agent design.\n",
    "- **Features**:\n",
    "  - Drag-and-drop workflow builder.\n",
    "  - Interactive sandbox for testing.\n",
    "  - Visual debugging tools.\n",
    "- **Documentation**: [Studio Guide](https://microsoft.github.io/autogen/stable/user-guide/studio.html)."
   ]
  },
  {
   "cell_type": "markdown",
   "id": "903862b1",
   "metadata": {},
   "source": [
    "## 6. Summary Table <a id='summary'></a>\n",
    "| **Component**   | **Key Role**                                                                 | **Documentation**                                                                 |\n",
    "|------------------|-----------------------------------------------------------------------------|-----------------------------------------------------------------------------------|\n",
    "| **Magentic-One** | Demo app for multi-agent collaboration.                                     | [Examples](https://microsoft.github.io/autogen/stable/user-guide/examples.html)   |\n",
    "| **Your App Here** | Custom applications (e.g., chatbots, assistants).                         | [Quickstart](https://microsoft.github.io/autogen/stable/user-guide/agentchat-user-guide/quickstart.html) |\n",
    "| **Core**         | Async, event-driven foundation for scalable agents.                        | [Architecture](https://microsoft.github.io/autogen/stable/user-guide/architecture.html) |\n",
    "| **AgentChat**    | Simplifies building conversational agents.                                 | [AgentChat Guide](https://microsoft.github.io/autogen/stable/user-guide/agentchat-user-guide/introduction.html) |\n",
    "| **Extensions**   | Adds external tools/APIs to agents.                                        | [Extensions](https://microsoft.github.io/autogen/stable/user-guide/extensions.html) |\n",
    "| **Bench**        | Tests agent performance under load.                                        | [Performance](https://microsoft.github.io/autogen/stable/user-guide/performance.html) |\n",
    "| **Studio**       | Visual tool for designing agent workflows.                                 | [Studio](https://microsoft.github.io/autogen/stable/user-guide/studio.html) |"
   ]
  },
  {
   "cell_type": "markdown",
   "id": "e866225e",
   "metadata": {},
   "source": [
    "## AutoGen vs. LangChain/ Langgraph <a id='autogen-langchain'></a>\n",
    "### Key Differences\n",
    "- **Architecture**: AutoGen uses an **event-driven, async architecture**, while LangChain relies on a **chain-based, sequential execution model**.\n",
    "- **Multi-Agent Capabilities**: AutoGen excels in **autonomous multi-agent collaboration**, whereas LangChain focuses on **single-agent workflows with structured steps**.\n",
    "- **Observability**: AutoGen provides **superior event tracking** for agent reasoning, while LangChain offers **basic tracing**.\n",
    "- **Scalability**: AutoGen’s async foundation supports **complex agent networks**, while LangChain’s synchronous design struggles with **large-scale systems**.\n",
    "- **Use Case Suitability**: AutoGen is ideal for **collaborative AI** (e.g., research teams), while LangChain is better for **data processing** or **question-answering**.\n",
    "\n",
    "For more details, visit the official homepage: [LangChain](https://python.langchain.com/docs/)."
   ]
  },
  {
   "cell_type": "markdown",
   "id": "4327ba25",
   "metadata": {},
   "source": [
    "## AutoGen vs. CrewAI <a id='autogen-crewai'></a>\n",
    "### Key Differences\n",
    "- **Flexibility**: AutoGen offers both **low-level Core API** and **high-level AgentChat API**, while CrewAI provides a **prescriptive, template-based model**.\n",
    "- **Customization**: AutoGen allows **deep customization** of agent behavior, whereas CrewAI is better for **quick setups** with limited flexibility.\n",
    "- **Maturity**: AutoGen has a **longer history** and **larger community**, while CrewAI is newer with a **growing user base**.\n",
    "- **Learning Curve**: CrewAI is **simpler** for basic multi-agent tasks, while AutoGen requires **more learning** for advanced scenarios.\n",
    "- **Use Case Suitability**: CrewAI suits **straightforward team tasks** (e.g., content creation), while AutoGen handles **intricate, dynamic AI models** (e.g., enterprise workflows).\n",
    "\n",
    "For more details, visit the official homepage: [CrewAI](https://docs.crewai.com/)."
   ]
  },
  {
   "cell_type": "code",
   "execution_count": null,
   "id": "a2d8518b",
   "metadata": {},
   "outputs": [],
   "source": []
  },
  {
   "cell_type": "markdown",
   "id": "997e10fb",
   "metadata": {},
   "source": []
  }
 ],
 "metadata": {
  "kernelspec": {
   "display_name": "Python 3",
   "language": "python",
   "name": "python3"
  },
  "language_info": {
   "codemirror_mode": {
    "name": "ipython",
    "version": 3
   },
   "file_extension": ".py",
   "mimetype": "text/x-python",
   "name": "python",
   "nbconvert_exporter": "python",
   "pygments_lexer": "ipython3",
   "version": "3.12.0"
  }
 },
 "nbformat": 4,
 "nbformat_minor": 5
}
