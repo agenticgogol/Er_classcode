{
 "cells": [
  {
   "cell_type": "markdown",
   "id": "01c534cf",
   "metadata": {},
   "source": [
    "# Mult agent systems\n",
    "- autogen_agentchat.teams : This module provides implementation of various pre defined multi agent teams. Each team inherits from. the BaseGroupChat class\n",
    "- Refer to documentation once \n",
    "- Why multi agent over single agent - a) Specialization b) Agents can work on async manner c) Resiliency - if an agent is lazy or flop, others can pick up  "
   ]
  },
  {
   "cell_type": "code",
   "execution_count": 1,
   "id": "ef898b5c",
   "metadata": {},
   "outputs": [],
   "source": [
    "from autogen_agentchat.agents import AssistantAgent\n",
    "from autogen_ext.models.openai import OpenAIChatCompletionClient\n",
    "from dotenv import load_dotenv\n",
    "import os\n",
    "\n",
    "load_dotenv()\n",
    "api_key = os.getenv('OPENAI_API_KEY')\n",
    "model_client = OpenAIChatCompletionClient(model='gpt-4', api_key=api_key)"
   ]
  },
  {
   "cell_type": "code",
   "execution_count": 3,
   "id": "0e3899ee",
   "metadata": {},
   "outputs": [
    {
     "name": "stdout",
     "output_type": "stream",
     "text": [
      "Once upon a time, in the heart of a quiet town nestled in the midst of snow-capped mountains and lush green fields, lived two adorable little girls named Lucy and Ella. They were not just sisters, but best friends who shared an irrepressible knack for finding everyday adventures.\n",
      "\n",
      "One delightful summer afternoon, while wandering through Mrs. Hoot's Sunflower field, they found something that would take their expeditions to a whole new level. In the midst of the towering sunflowers, a petite, fluffy creature peeked back at them with curious, glittering emerald eyes. To their surprise, it was a cat, an extraordinary one at that - it had the most beautiful, shiny pink fur they had ever seen.\n",
      "\n",
      "Confused yet awestruck, the girls named their newfound feline friend 'Rosie' after its unique rose-colored coat. The girls could hardly contain their excitement at the idea of sharing their everyday escapades with Rosie. It wasn't long before Rosie the pink cat became an integral figure in Lucy and Ella's wanderings and fairy-tale-like stories.\n",
      "\n",
      "Rosie was a cat like no other. Beyond her striking pink fur, she seemed to understand the girls' words, reacted to their emotions, and yet, maintained a wise, mysterious aura about her. She also had peculiar habits - she loved eating strawberry jam toast for breakfast and enjoyed napping curled up in a pink blanket that perfectly complimented her fur.\n",
      "\n",
      "Lucy, the elder and more thoughtful one, came up with fantastical childlike theories to explain Rosie's unusual color. She fancied that Rosie had bathed in the colors of the blush sunset and somehow got dyed pink for life. On the other hand, the vivacious Ella spun tales of Rosie being a magical cat, blessed by a fairy queen from the dreamy, pink clouds.\n",
      "\n",
      "Every day, the girls would seek out new adventures with Rosie, making up countless tales of pirates, castles, aliens, and secret gardens. Rosie would trot along, exploring alongside them, her pink coat a fluffy blur as she leaped over logs and pranced through fields. The cat warmed the sisters' hearts with her antics as she chased butterflies, stretched out in sunny spots, and nuzzled up to them at times.\n",
      "\n",
      "Rosie's presence brought a renewed zest of excitement to their lives. The extraordinary pink cat did nothing remarkably magical, yet she brightened their already vibrant world with her distinctive charm and quirks. Lucy and Ella, through their playful imagination, weaved countless enchanting stories around Rosie, making their ordinary life extraordinarily wonderful.\n",
      "\n",
      "And so, in the tales of these two little girls, the pink cat named Rosie became a legend, their remarkable companion in untamed childhood adventures, and a colorful imprint in their heartwarming sisterly bond. Their shared escapades interspersed with giggles, chatters, and purrs echoed amidst the sunflower fields, casting an enchanting spell on their otherwise quiet town, lighting up their childhood with countless magical memories.\n"
     ]
    }
   ],
   "source": [
    "from autogen_agentchat.agents import AssistantAgent\n",
    "\n",
    "story_agent = AssistantAgent(\n",
    "    name = 'story_agent',\n",
    "    model_client = model_client,\n",
    "    system_message = 'you are a content writer. Generate stories on any given topic'\n",
    ")\n",
    "\n",
    "from autogen_agentchat.messages import TextMessage\n",
    "\n",
    "async def test_simple_agent():\n",
    "    task = TextMessage(\n",
    "        content = \"Write a short story about two little girls and a pink cat in 300 words\",\n",
    "        source = 'user'\n",
    "    )\n",
    "    result = await story_agent.run(task= task)\n",
    "    print(result.messages[-1].content)\n",
    "await test_simple_agent()"
   ]
  },
  {
   "cell_type": "markdown",
   "id": "f2542157",
   "metadata": {},
   "source": [
    "# Multi Agent team approach \n"
   ]
  },
  {
   "cell_type": "code",
   "execution_count": 9,
   "id": "a7056377",
   "metadata": {},
   "outputs": [
    {
     "name": "stdout",
     "output_type": "stream",
     "text": [
      "user: Write a short story about two little girls and a pink cat. Keep it to 300 words\n",
      "plot_agent: Once upon a time, in a small, cozy town lived two little girls, Molly and Ellie. They were known throughout the town for their glowing blue eyes and mischievous giggles. However, their most charming quality was their fondness for 'Rosie,' a rare pink cat who mysteriously appeared in their backyard.\n",
      "\n",
      "Despite Rosie’s peculiar appearance, she was much loved. She had enticing sparkling green eyes, baby pink fur, and a tail fluffy as a marshmallow. The townsfolk were fascinated by her, but it was the bond between the two girls and Rosie that was truly magical.\n",
      "\n",
      "One day, Rosie went missing. The girls were heartbroken, their tears soaking the old wooden floor of their pretty white cottage. Soon the news spread, and the entire town started looking for the pink cat. \n",
      "\n",
      "Days turned into nights, yet no sign of Rosie. The usual laughter and joy had transformed into deep sorrow.\n",
      "\n",
      "One evening, while Molly and Ellie were sitting by the window, their hearts filled with longing for their beloved Rosie, they saw a pink streak moving swiftly in the dark. Filled with excitement and hope, they dashed out, hurdled over the picket fence, and chased after the streak. They followed it all the way into the deepest part of the woods, where no one dared to venture.\n",
      "\n",
      "Suddenly, the pink streak halted, and before them stood Rosie, surrounded by a litter of tiny, pink kittens. Their eyes widened in joyous disbelief!\n",
      "\n",
      "Understanding what Rosie’s absence had been all about, the girls decided to keep it a surprise for the town. They giggled, promising to take care of Rosie and her newborn kittens, fitting their little adventure perfectly into the saying, “Curiosity led the cat to the two girls, but love brought her back home\".\n",
      "character_agent: Characters:\n",
      "\n",
      "Molly & Ellie: These two little girls are adventurous, mischievous and extremely caring. They are inseparable and treat Rosie as their own. Their love for Rosie leads them on a quest that ends in joy and utter disbelief.\n",
      "\n",
      "Rosie: This pink cat is as peculiar as she is lovable. With her sparkling green eyes and fluffy tail, she's impossible to miss. When she mysteriously disappears, it leaves everyone concerned. But Rosie’s return with her little surprises reveals her reasons and strengthens the bond she shares with the girls.\n",
      "ending_agent: The town eventually not only celebrated Rosie’s return but also welcomed the new, delightful additions. However, the real surprise unfolded a few days later. A peculiar transformation occurred. The kittens began to lose their pink shade. Their fur turned snowy white, one by one. \n",
      "\n",
      "This astounding revelation led the townsfolk to believe that Rosie was not naturally pink. She must have rolled in a patch of blooming pink flowers which had caused her to turn pink!\n",
      "\n",
      "A mystery unfolded, but the story of Rosie’s magical transformation from being ‘the pink cat’ that attracted everybody's attention to a regular white cat was both whimsical and heartwarming. It taught Molly, Ellie, and the entire town a wonderful lesson about love. Rosie was adored not for her pink fur, but for the joy she brought into the lives of those around her. \n",
      "\n",
      "So, in the end, the twist was - there was no pink cat - just an ordinary white cat who was extraordinarily loved.\n"
     ]
    }
   ],
   "source": [
    "plot_agent = AssistantAgent(\n",
    "    name = 'plot_agent',\n",
    "    model_client = model_client,\n",
    "    system_message = \"You create engaging plots for stories for a story topic\"\n",
    ")\n",
    "\n",
    "character_agent = AssistantAgent(\n",
    "    name = 'character_agent',\n",
    "    model_client = model_client,\n",
    "    system_message = \"You develop characters and their behaviors for a given story topic\"\n",
    ")\n",
    "\n",
    "ending_agent = AssistantAgent(\n",
    "    name = 'ending_agent',\n",
    "    model_client = model_client,\n",
    "    system_message = \"You write ending of a story. Always conclude stories with twists\"\n",
    ")\n",
    "\n",
    "from autogen_agentchat.teams import RoundRobinGroupChat\n",
    "\n",
    "team = RoundRobinGroupChat(\n",
    "    [plot_agent,character_agent, ending_agent],\n",
    "    max_turns = 3\n",
    ")\n",
    "\n",
    "async def test_team():\n",
    "    task = TextMessage(\n",
    "        content = \"Write a short story about two little girls and a pink cat. Keep it to 300 words\",\n",
    "        source = 'user'\n",
    "    )\n",
    "    result = await team.run(task = task)\n",
    "    for each_agent_message in result.messages:\n",
    "        print(f'{each_agent_message.source}: {each_agent_message.content}')\n",
    "    \n",
    "await test_team()\n",
    "\n",
    "\n"
   ]
  },
  {
   "cell_type": "markdown",
   "id": "086e67a7",
   "metadata": {},
   "source": [
    "# Observing teams in Autogen "
   ]
  },
  {
   "cell_type": "code",
   "execution_count": 10,
   "id": "4581aa62",
   "metadata": {},
   "outputs": [],
   "source": [
    "import asyncio\n",
    "from autogen_ext.models.openai import OpenAIChatCompletionClient\n",
    "from dotenv import load_dotenv\n",
    "import os\n",
    "\n",
    "load_dotenv()\n",
    "api_key = os.getenv('OPENAI_API_KEY')\n",
    "model_client = OpenAIChatCompletionClient(model='gpt-4o', api_key=api_key)\n",
    "\n",
    "plot_agent = AssistantAgent(\n",
    "    name = 'plot_agent',\n",
    "    model_client = model_client,\n",
    "    system_message = \"You create engaging plots for stories for a story topic\"\n",
    ")\n",
    "\n",
    "character_agent = AssistantAgent(\n",
    "    name = 'character_agent',\n",
    "    model_client = model_client,\n",
    "    system_message = \"You develop characters and their behaviors for a given story topic\"\n",
    ")\n",
    "\n",
    "ending_agent = AssistantAgent(\n",
    "    name = 'ending_agent',\n",
    "    model_client = model_client,\n",
    "    system_message = \"You write ending of a story. Always conclude stories with twists\"\n",
    ")\n",
    "\n",
    "from autogen_agentchat.teams import RoundRobinGroupChat\n",
    "\n",
    "team = RoundRobinGroupChat(\n",
    "    [plot_agent,character_agent, ending_agent],\n",
    "    max_turns = 3\n",
    ")"
   ]
  },
  {
   "cell_type": "code",
   "execution_count": 11,
   "id": "3cf919b6",
   "metadata": {},
   "outputs": [
    {
     "name": "stdout",
     "output_type": "stream",
     "text": [
      "id='45ef76d5-9e0e-4e84-9ef4-264f1b56d2f2' source='user' models_usage=None metadata={} created_at=datetime.datetime(2025, 8, 8, 23, 27, 21, 471789, tzinfo=datetime.timezone.utc) content='Write a story on a king , a queen and her lover' type='TextMessage'\n",
      "id='548e21ed-7637-43fd-8a59-f8ed65b69b48' source='plot_agent' models_usage=RequestUsage(prompt_tokens=34, completion_tokens=884) metadata={} created_at=datetime.datetime(2025, 8, 8, 23, 27, 43, 209894, tzinfo=datetime.timezone.utc) content='Title: The Royal Triangle\\n\\nIn the heart of the lush kingdom of Verdonia, where the rivers sang harmonious melodies and the forests whispered secrets, reigned King Alaric. Known for his wisdom and valor, Alaric was a beloved ruler who stood as a pillar of strength for his subjects. Beside him was Queen Elara, the epitome of grace and kindness, whose beauty was rivaled only by her compassionate heart.\\n\\nHowever, hidden behind the ceremonial smiles and regal façade lay a love story cloaked in shadows. Elara, though devoted to her king and country, harbored a secret that could unravel the very fabric of the monarchy—her love for another.\\n\\nEliam, a renowned artist within the kingdom, had captured Elara\\'s heart long before she ascended as queen. They had met in a tranquil meadow, under the silky shade of a willow, where Eliam, with his brushes and colors, painted worlds that danced in harmony with Elara\\'s dreams. Their connection was instant, as if two souls had found each other across the tapestry of time itself.\\n\\nWhen Alaric ascended to the throne, Elara, bound by duty and obligation, accepted his hand in marriage. Yet, the love she shared with Eliam remained unwavering, a hidden ember glowing quietly beneath the mantle of monarchy.\\n\\nThe kingdom prospered under Alaric\\'s rule, with Elara by his side, but her heart yearned for those moments tucked away with Eliam, away from the gaze of the court and the expectations that weighed heavily on her shoulders.\\n\\nFate, however, weaves its own stories.\\n\\nIn the kingdom\\'s bid to forge new alliances, Alaric hosted a grand celebration, drawing nobles and dignitaries from distant lands. Eliam, now a favored artist commissioned to immortalize the event in his art, found himself once more in the halls of the palace, his presence a secret thrill and torment to Elara.\\n\\nAmidst the grandeur, Eliam caught glimpses of Elara, regal and dazzling, yet unable to mask the longing in her eyes, a reflection of his own heart. It was during this celebration that Queen Elara\\'s secret faced its greatest peril.\\n\\nLady Isolde, a shrewd courtier with ambitions of her own, noticed the subtle glances exchanged between Eliam and Elara and smelled a scandal that could be used to her advantage. Intent on uprooting Elara\\'s position, Isolde wove a web of whispers, spinning tales of betrayal and deceit concerning the queen\\'s affections.\\n\\nThe rumors reached Alaric\\'s ears, and though his heart was heavy, he sought truth over deception. One starlit evening, he confronted Elara in the solarium, where moonlight wove intricate patterns against her face.\\n\\n\"Is it true, Elara?\" Alaric asked, his voice a mixture of authority and vulnerability.\\n\\nTears glistened in Elara\\'s eyes as she took a steadying breath. \"My heart, it loves our kingdom, it loves you for the good you\\'ve done. Yet, a piece of it belongs to another.\"\\n\\nPain etched across Alaric\\'s face, and a heavy silence lingered. But where others might perceive betrayal, Alaric saw the sincerity of a woman torn between obligations and her own elusive happiness.\\n\\nUnderstanding the fragility of the situation and nurturing care for both Elara and the kingdom, Alaric devised a plan. He announced a new commission for Eliam—a sprawling mural in the western wing of the palace, one that symbolized unity and enduring love.\\n\\nWhile Eliam painted, Elara was granted leisure under the guise of assisting in the artistic endeavor. There, in moments snatched between duty and discretion, she could be with Eliam, their love painted into the fabric of the kingdom through strokes of art, sanctioned by the king himself.\\n\\nIn this delicate equilibrium, Verdonia continued to thrive, a kingdom where love transcended the boundaries of tradition and expectation. Alaric, Elara, and Eliam found a way to harmonize their separate destinies within the rhythms of a kingdom destined for greatness.\\n\\nAnd so, the tale of the king, the queen, and her lover became a legend whispered among the people—an enduring example of love\\'s complexity, its resilience, and its unparalleled power to shape the future.' type='TextMessage'\n",
      "id='0e5098ee-2f5f-4f6c-bfc0-67b004556784' source='character_agent' models_usage=RequestUsage(prompt_tokens=926, completion_tokens=532) metadata={} created_at=datetime.datetime(2025, 8, 8, 23, 27, 57, 466234, tzinfo=datetime.timezone.utc) content=\"The story of King Alaric, Queen Elara, and Eliam became a cherished narrative passed through generations in Verdonia. It served as a poignant reminder that love, in its many forms, is both a source of great strength and deep vulnerability.\\n\\nAs the years unfolded, King Alaric continued to rule with wisdom and compassion, his reputation as a just and understanding monarch spreading beyond the borders of Verdonia. He never spoke publicly of what he had learned in the solarium that night, choosing instead to honor the quiet pact they had formed—a pact of love and respect for each other’s truths.\\n\\nQueen Elara, with a new understanding of her own heart, poured her energy into initiatives that brought culture and art to the forefront of Verdonia's society. She established schools where creativity was nurtured, ensuring that Eliam’s talents and those of others like him would inspire future generations.\\n\\nEliam, now a respected figure in the court, worked diligently on the grand mural—a masterpiece that took years to complete. It became not just an artistic marvel, but a testament to the unique bond shared by the three of them. The mural depicted scenes of Verdonia's serene landscapes, its thriving people, and at its heart, a representation of love in its various forms, from friendship to romance.\\n\\nIn private moments, as Elara and Eliam stood before the mural, they shared silent conversations and unspoken dreams. Their love had been tested and transformed, becoming a bond that was both spiritual and everlasting—a love free from possession, grounded in mutual understanding and deep respect.\\n\\nAs time did its inexorable work, Alaric, Elara, and Eliam aged gracefully, their story leaving an indelible mark on the kingdom. The love triangle never became a source of scandal or tragedy but evolved into a tale of progressive thoughtfulness and compassionate leadership.\\n\\nKing Alaric's final years saw Verdonia prosper like never before. His ability to see beyond tradition, to govern with an open heart and mind, had set a precedent for rulers who followed.\\n\\nWhen King Alaric passed, the kingdom mourned deeply, yet it celebrated a legacy of love—in all its complexities and forms. Elara, now queen regent, continued Alaric's work with grace, her heart still holding the echoes of the love she and Eliam shared.\\n\\nIn the years that followed, the story of the king, the queen, and her lover became a symbol of enlightenment in Verdonia, a gentle reminder that love's true power lies not in its simplicity, but in its ability to embrace imperfection and to prosper in harmony with honor and acceptance.\" type='TextMessage'\n",
      "id='2273c797-8555-4fca-bc45-a6e59fc8d936' source='ending_agent' models_usage=RequestUsage(prompt_tokens=1466, completion_tokens=308) metadata={} created_at=datetime.datetime(2025, 8, 8, 23, 28, 5, 723366, tzinfo=datetime.timezone.utc) content=\"But fate, always with a penchant for twists, decided the tale wasn’t quite complete.\\n\\nAs Elara continued her rule, strengthening the kingdom's commitment to arts and culture, a remarkable discovery was made in the archives of Verdonia's ancient library—a series of letters, finely preserved, dating back to the time of the kingdom's founding. Scholars were astounded by their contents. These letters detailed accounts of a forgotten prophecy, one stating that the true strength and unity of Verdonia could only be achieved when a king, queen, and a lover stood as one—a model of harmony and balance, driven by mutual respect and unbreakable bonds.\\n\\nWas it coincidence or destiny that Alaric, Elara, and Eliam had fulfilled this ancient foretelling? The kingdom buzzed with speculation and awe as these ancient texts were unveiled. It seemed that love’s complex dance had not only shaped their personal lives but had also unknowingly fulfilled a mystical expectation laid down by their ancestors.\\n\\nThe people of Verdonia celebrated their legendary leaders, recognizing them not just for their personal sacrifices and love, but also as pivotal figures destined by their history to guide the kingdom into a new era of prosperity and enlightenment.\\n\\nAnd so, the story of the king, the queen, and her lover transcended its humble beginnings, becoming an enduring legend of divine foresight fulfilled. Their lives were a profound testament that sometimes, what seems like an unpredictable path may, in the grand tapestry of existence, be the very path that unifies heart, spirit, and kingdom.\" type='TextMessage'\n",
      "Stop Reason: Maximum number of turns 3 reached.\n"
     ]
    }
   ],
   "source": [
    "from autogen_agentchat.base import TaskResult\n",
    "\n",
    "async for message in team.run_stream(task = 'Write a story on a king , a queen and her lover'):\n",
    "    if isinstance(message,TaskResult):\n",
    "        print(f\"Stop Reason: {message.stop_reason}\")\n",
    "    else:\n",
    "        print((message))"
   ]
  },
  {
   "cell_type": "code",
   "execution_count": 12,
   "id": "45c6aa66",
   "metadata": {},
   "outputs": [
    {
     "name": "stdout",
     "output_type": "stream",
     "text": [
      "---------- TextMessage (user) ----------\n",
      "Write a story on a king , a queen and her lover in 200 words\n",
      "---------- TextMessage (plot_agent) ----------\n",
      "In the serene kingdom of Valoria, King Alden ruled with a fair hand alongside Queen Isolde, celebrated for her beauty and wisdom. Their reign was admired, but beneath the surface lay a hidden truth—Isolde's heart was divided.\n",
      "\n",
      "Years before ascending the throne, Isolde had fallen in love with Aric, a skilled musician who brought melodies to life. Their love was pure but destined to be concealed when Isolde married Alden for the kingdom's unity.\n",
      "\n",
      "Aric, now a court composer, was never far from Isolde's thoughts. Their secret meetings became whispers of solace amidst the court's hustle. Unbeknownst to the public, Alden discovered their love through a heartfelt ballad Aric composed for Isolde.\n",
      "\n",
      "Surprisingly, Alden, valuing their happiness over convention, embraced their love. He understood that a kingdom's strength lay in genuine bonds and led with compassion and acceptance. The trio forged a secret pact of understanding and mutual support.\n",
      "\n",
      "Together, they guided Valoria into a golden era, where art flourished, and their unique tale inspired generations to cherish love in all its forms. Their story became a legend of understanding and unity, proving that sometimes, true power is born from the heart's deepest truths.\n",
      "---------- TextMessage (character_agent) ----------\n",
      "In the peaceful kingdom of Valoria, King Alden ruled wisely with Queen Isolde, known for her elegance and intellect. Their rule was cherished, yet a secret dwelled in Isolde’s heart—her love for Aric, a gifted musician.\n",
      "\n",
      "Before she became queen, Isolde and Aric shared a profound connection, their love unwavered by duty. When Isolde married Alden to fortify the kingdom, it was a decision of necessity, not passion.\n",
      "\n",
      "Aric, as a composer in the court, always brought comfort to Isolde. Their brief, hidden encounters were breaths of tranquility. King Alden, perceptive and kind, learned of their bond through a tender melody Aric wrote for Isolde.\n",
      "\n",
      "Instead of anger, Alden chose empathy, believing true leadership embraced love in its truest form. He allowed their love to continue discreetly, weaving a tapestry of unity stronger than any throne.\n",
      "\n",
      "Together, Alden, Isolde, and Aric nurtured Valoria into an era of abundance, where art and compassion thrived alongside governance. Their bond, unseen but enduring, became a quiet legend of the heart, a testament to understanding and love transcending traditional bounds, heralding a legacy that cherished the heart’s deepest truths.\n",
      "---------- TextMessage (ending_agent) ----------\n",
      "Their tale became a whispered legend in Valoria, a story that defied the norms expected of royalty and proved love's power to transform and unify. King Alden, Queen Isolde, and Aric shared a profound connection, each offering a unique strength that shaped their reign into one of the most celebrated in history.\n",
      "\n",
      "As the years passed, the trio's secret pact of love and understanding, concealed beneath the veneer of royal decorum, symbolized a new era of leadership. Alden, with his compassionate rule, Isolde with her strategic intellect, and Aric with his soulful creations, together became the heartbeat of a kingdom where strength resided in embracing one's true self.\n",
      "\n",
      "Their story inspired poets and dreamers, serving as a reminder that love, when genuine and accepting, knows no boundaries. It was whispered that Valoria flourished not merely from policies and alliances, but from the harmonious bond of a king, a queen, and her lover—three souls who dared to defy convention for the sake of love.\n",
      "\n",
      "In a world often rigid in its judgments, their legacy endured as an example of love's extraordinary capacity to heal, unite, and create a future brighter than any crown could decree.\n"
     ]
    },
    {
     "data": {
      "text/plain": [
       "TaskResult(messages=[TextMessage(id='de28a384-65aa-4b6f-8739-2fa8264c278a', source='user', models_usage=None, metadata={}, created_at=datetime.datetime(2025, 8, 8, 23, 28, 29, 603352, tzinfo=datetime.timezone.utc), content='Write a story on a king , a queen and her lover in 200 words', type='TextMessage'), TextMessage(id='474e34d6-378e-4586-b918-240d72e736bc', source='plot_agent', models_usage=RequestUsage(prompt_tokens=1797, completion_tokens=252), metadata={}, created_at=datetime.datetime(2025, 8, 8, 23, 28, 38, 184355, tzinfo=datetime.timezone.utc), content=\"In the serene kingdom of Valoria, King Alden ruled with a fair hand alongside Queen Isolde, celebrated for her beauty and wisdom. Their reign was admired, but beneath the surface lay a hidden truth—Isolde's heart was divided.\\n\\nYears before ascending the throne, Isolde had fallen in love with Aric, a skilled musician who brought melodies to life. Their love was pure but destined to be concealed when Isolde married Alden for the kingdom's unity.\\n\\nAric, now a court composer, was never far from Isolde's thoughts. Their secret meetings became whispers of solace amidst the court's hustle. Unbeknownst to the public, Alden discovered their love through a heartfelt ballad Aric composed for Isolde.\\n\\nSurprisingly, Alden, valuing their happiness over convention, embraced their love. He understood that a kingdom's strength lay in genuine bonds and led with compassion and acceptance. The trio forged a secret pact of understanding and mutual support.\\n\\nTogether, they guided Valoria into a golden era, where art flourished, and their unique tale inspired generations to cherish love in all its forms. Their story became a legend of understanding and unity, proving that sometimes, true power is born from the heart's deepest truths.\", type='TextMessage'), TextMessage(id='99602066-a57f-4141-b8f5-3a91c2e847c1', source='character_agent', models_usage=RequestUsage(prompt_tokens=2057, completion_tokens=254), metadata={}, created_at=datetime.datetime(2025, 8, 8, 23, 28, 44, 800347, tzinfo=datetime.timezone.utc), content='In the peaceful kingdom of Valoria, King Alden ruled wisely with Queen Isolde, known for her elegance and intellect. Their rule was cherished, yet a secret dwelled in Isolde’s heart—her love for Aric, a gifted musician.\\n\\nBefore she became queen, Isolde and Aric shared a profound connection, their love unwavered by duty. When Isolde married Alden to fortify the kingdom, it was a decision of necessity, not passion.\\n\\nAric, as a composer in the court, always brought comfort to Isolde. Their brief, hidden encounters were breaths of tranquility. King Alden, perceptive and kind, learned of their bond through a tender melody Aric wrote for Isolde.\\n\\nInstead of anger, Alden chose empathy, believing true leadership embraced love in its truest form. He allowed their love to continue discreetly, weaving a tapestry of unity stronger than any throne.\\n\\nTogether, Alden, Isolde, and Aric nurtured Valoria into an era of abundance, where art and compassion thrived alongside governance. Their bond, unseen but enduring, became a quiet legend of the heart, a testament to understanding and love transcending traditional bounds, heralding a legacy that cherished the heart’s deepest truths.', type='TextMessage'), TextMessage(id='7ab05748-91a5-44b7-a57c-57a8abf048ac', source='ending_agent', models_usage=RequestUsage(prompt_tokens=2319, completion_tokens=241), metadata={}, created_at=datetime.datetime(2025, 8, 8, 23, 28, 51, 762471, tzinfo=datetime.timezone.utc), content=\"Their tale became a whispered legend in Valoria, a story that defied the norms expected of royalty and proved love's power to transform and unify. King Alden, Queen Isolde, and Aric shared a profound connection, each offering a unique strength that shaped their reign into one of the most celebrated in history.\\n\\nAs the years passed, the trio's secret pact of love and understanding, concealed beneath the veneer of royal decorum, symbolized a new era of leadership. Alden, with his compassionate rule, Isolde with her strategic intellect, and Aric with his soulful creations, together became the heartbeat of a kingdom where strength resided in embracing one's true self.\\n\\nTheir story inspired poets and dreamers, serving as a reminder that love, when genuine and accepting, knows no boundaries. It was whispered that Valoria flourished not merely from policies and alliances, but from the harmonious bond of a king, a queen, and her lover—three souls who dared to defy convention for the sake of love.\\n\\nIn a world often rigid in its judgments, their legacy endured as an example of love's extraordinary capacity to heal, unite, and create a future brighter than any crown could decree.\", type='TextMessage')], stop_reason='Maximum number of turns 3 reached.')"
      ]
     },
     "execution_count": 12,
     "metadata": {},
     "output_type": "execute_result"
    }
   ],
   "source": [
    "from autogen_agentchat.ui import Console\n",
    "\n",
    "await Console(team.run_stream(task = 'Write a story on a king , a queen and her lover in 200 words'))"
   ]
  },
  {
   "cell_type": "markdown",
   "id": "abc8132c",
   "metadata": {},
   "source": [
    "# Team operations   \n",
    "- Resume"
   ]
  },
  {
   "cell_type": "code",
   "execution_count": 1,
   "id": "5669e7c5",
   "metadata": {},
   "outputs": [
    {
     "name": "stdout",
     "output_type": "stream",
     "text": [
      "---------- TextMessage (add_1_agent_first) ----------\n",
      "1\n",
      "---------- TextMessage (add_1_agent_second) ----------\n",
      "2\n",
      "---------- TextMessage (add_1_agent_third) ----------\n",
      "3\n",
      "---------- TextMessage (add_1_agent_first) ----------\n",
      "4\n",
      "---------- TextMessage (add_1_agent_second) ----------\n",
      "5\n"
     ]
    },
    {
     "data": {
      "text/plain": [
       "TaskResult(messages=[TextMessage(id='ae8288d2-6bb5-40e3-90ed-f30815dadf4d', source='add_1_agent_first', models_usage=RequestUsage(prompt_tokens=24, completion_tokens=1), metadata={}, created_at=datetime.datetime(2025, 8, 9, 4, 33, 30, 141772, tzinfo=datetime.timezone.utc), content='1', type='TextMessage'), TextMessage(id='4f193bea-ba77-4078-bd36-894d16ce61ef', source='add_1_agent_second', models_usage=RequestUsage(prompt_tokens=29, completion_tokens=1), metadata={}, created_at=datetime.datetime(2025, 8, 9, 4, 33, 30, 679969, tzinfo=datetime.timezone.utc), content='2', type='TextMessage'), TextMessage(id='a191ec29-ea09-4896-a9c1-40c763c85a2e', source='add_1_agent_third', models_usage=RequestUsage(prompt_tokens=39, completion_tokens=1), metadata={}, created_at=datetime.datetime(2025, 8, 9, 4, 33, 31, 316653, tzinfo=datetime.timezone.utc), content='3', type='TextMessage'), TextMessage(id='7def664d-0b02-4938-95ee-2b42e5ccde5d', source='add_1_agent_first', models_usage=RequestUsage(prompt_tokens=50, completion_tokens=1), metadata={}, created_at=datetime.datetime(2025, 8, 9, 4, 33, 31, 875555, tzinfo=datetime.timezone.utc), content='4', type='TextMessage'), TextMessage(id='9ea8bbe1-e15c-4c5d-b4c4-44fef840ab97', source='add_1_agent_second', models_usage=RequestUsage(prompt_tokens=55, completion_tokens=1), metadata={}, created_at=datetime.datetime(2025, 8, 9, 4, 33, 32, 469458, tzinfo=datetime.timezone.utc), content='5', type='TextMessage')], stop_reason='Maximum number of turns 5 reached.')"
      ]
     },
     "execution_count": 1,
     "metadata": {},
     "output_type": "execute_result"
    }
   ],
   "source": [
    "import asyncio\n",
    "from autogen_ext.models.openai import OpenAIChatCompletionClient\n",
    "from dotenv import load_dotenv\n",
    "import os\n",
    "\n",
    "load_dotenv()\n",
    "api_key = os.getenv('OPENAI_API_KEY')\n",
    "model_client = OpenAIChatCompletionClient(model='gpt-4o', api_key=api_key)\n",
    "\n",
    "from autogen_agentchat.agents import AssistantAgent\n",
    "add_1_agent_first = AssistantAgent(\n",
    "    name = 'add_1_agent_first',\n",
    "    model_client=model_client,\n",
    "    system_message=\"Add 1 to the number, first number is 0. Give result as output\"\n",
    ")\n",
    "\n",
    "add_1_agent_second = AssistantAgent(\n",
    "    name = 'add_1_agent_second',\n",
    "    model_client=model_client,\n",
    "    system_message=\"Add 1 to the number. Give result as output.\"\n",
    ")\n",
    " \n",
    "add_1_agent_third = AssistantAgent(\n",
    "    name = 'add_1_agent_third',\n",
    "    model_client=model_client,\n",
    "    system_message=\"Add 1 to the number. Give result as output.\"\n",
    ")\n",
    "\n",
    "from autogen_agentchat.teams import RoundRobinGroupChat\n",
    "\n",
    "team = RoundRobinGroupChat(\n",
    "    [add_1_agent_first, add_1_agent_second, add_1_agent_third],\n",
    "    max_turns=5\n",
    ")\n",
    "\n",
    "from autogen_agentchat.ui import Console\n",
    "\n",
    "await Console(team.run_stream())"
   ]
  },
  {
   "cell_type": "code",
   "execution_count": 2,
   "id": "412fa3fe",
   "metadata": {},
   "outputs": [
    {
     "name": "stdout",
     "output_type": "stream",
     "text": [
      "---------- TextMessage (add_1_agent_third) ----------\n",
      "6\n",
      "---------- TextMessage (add_1_agent_first) ----------\n",
      "7\n",
      "---------- TextMessage (add_1_agent_second) ----------\n",
      "8\n",
      "---------- TextMessage (add_1_agent_third) ----------\n",
      "9\n",
      "---------- TextMessage (add_1_agent_first) ----------\n",
      "10\n"
     ]
    },
    {
     "data": {
      "text/plain": [
       "TaskResult(messages=[TextMessage(id='ef85d820-591f-4d17-b86e-ffa8a08b45de', source='add_1_agent_third', models_usage=RequestUsage(prompt_tokens=64, completion_tokens=1), metadata={}, created_at=datetime.datetime(2025, 8, 9, 4, 33, 49, 25538, tzinfo=datetime.timezone.utc), content='6', type='TextMessage'), TextMessage(id='8b1d7501-1cd1-419b-821f-3d5e3f9d3f3b', source='add_1_agent_first', models_usage=RequestUsage(prompt_tokens=76, completion_tokens=1), metadata={}, created_at=datetime.datetime(2025, 8, 9, 4, 33, 49, 654287, tzinfo=datetime.timezone.utc), content='7', type='TextMessage'), TextMessage(id='7f10e4c4-984c-44c3-b3fa-ff05cc2a6e6a', source='add_1_agent_second', models_usage=RequestUsage(prompt_tokens=81, completion_tokens=1), metadata={}, created_at=datetime.datetime(2025, 8, 9, 4, 33, 50, 253617, tzinfo=datetime.timezone.utc), content='8', type='TextMessage'), TextMessage(id='43e39ca0-df21-4412-a9b1-13955dde640d', source='add_1_agent_third', models_usage=RequestUsage(prompt_tokens=89, completion_tokens=1), metadata={}, created_at=datetime.datetime(2025, 8, 9, 4, 33, 50, 830981, tzinfo=datetime.timezone.utc), content='9', type='TextMessage'), TextMessage(id='3669fbed-724d-4d19-b840-521a48abe393', source='add_1_agent_first', models_usage=RequestUsage(prompt_tokens=102, completion_tokens=1), metadata={}, created_at=datetime.datetime(2025, 8, 9, 4, 33, 51, 407629, tzinfo=datetime.timezone.utc), content='10', type='TextMessage')], stop_reason='Maximum number of turns 5 reached.')"
      ]
     },
     "execution_count": 2,
     "metadata": {},
     "output_type": "execute_result"
    }
   ],
   "source": [
    "await Console(team.run_stream())"
   ]
  },
  {
   "cell_type": "code",
   "execution_count": 3,
   "id": "54cc85f8",
   "metadata": {},
   "outputs": [
    {
     "name": "stdout",
     "output_type": "stream",
     "text": [
      "---------- TextMessage (add_1_agent_second) ----------\n",
      "11\n",
      "---------- TextMessage (add_1_agent_third) ----------\n",
      "12\n",
      "---------- TextMessage (add_1_agent_first) ----------\n",
      "13\n",
      "---------- TextMessage (add_1_agent_second) ----------\n",
      "14\n",
      "---------- TextMessage (add_1_agent_third) ----------\n",
      "15\n"
     ]
    },
    {
     "data": {
      "text/plain": [
       "TaskResult(messages=[TextMessage(id='a30ed479-79e9-498a-9a55-2db60407ccce', source='add_1_agent_second', models_usage=RequestUsage(prompt_tokens=107, completion_tokens=1), metadata={}, created_at=datetime.datetime(2025, 8, 9, 4, 33, 55, 936607, tzinfo=datetime.timezone.utc), content='11', type='TextMessage'), TextMessage(id='1c92527c-0255-4330-9a0e-62e573f1559d', source='add_1_agent_third', models_usage=RequestUsage(prompt_tokens=114, completion_tokens=1), metadata={}, created_at=datetime.datetime(2025, 8, 9, 4, 33, 56, 509788, tzinfo=datetime.timezone.utc), content='12', type='TextMessage'), TextMessage(id='cb393f88-4731-436e-8fd1-c6db25fa1dc7', source='add_1_agent_first', models_usage=RequestUsage(prompt_tokens=128, completion_tokens=1), metadata={}, created_at=datetime.datetime(2025, 8, 9, 4, 33, 57, 128844, tzinfo=datetime.timezone.utc), content='13', type='TextMessage'), TextMessage(id='70e57281-0994-41b9-bf93-7e1284419607', source='add_1_agent_second', models_usage=RequestUsage(prompt_tokens=133, completion_tokens=1), metadata={}, created_at=datetime.datetime(2025, 8, 9, 4, 33, 57, 797887, tzinfo=datetime.timezone.utc), content='14', type='TextMessage'), TextMessage(id='2eeaaccc-5387-4029-923f-5ac534814607', source='add_1_agent_third', models_usage=RequestUsage(prompt_tokens=139, completion_tokens=1), metadata={}, created_at=datetime.datetime(2025, 8, 9, 4, 33, 58, 439078, tzinfo=datetime.timezone.utc), content='15', type='TextMessage')], stop_reason='Maximum number of turns 5 reached.')"
      ]
     },
     "execution_count": 3,
     "metadata": {},
     "output_type": "execute_result"
    }
   ],
   "source": [
    "await Console(team.run_stream())"
   ]
  },
  {
   "cell_type": "markdown",
   "id": "d3b0e9dd",
   "metadata": {},
   "source": [
    "- Reset operation"
   ]
  },
  {
   "cell_type": "code",
   "execution_count": 4,
   "id": "dda89b49",
   "metadata": {},
   "outputs": [],
   "source": [
    "await team.reset() # on_reset() on all agents"
   ]
  },
  {
   "cell_type": "code",
   "execution_count": 5,
   "id": "3e550105",
   "metadata": {},
   "outputs": [
    {
     "name": "stdout",
     "output_type": "stream",
     "text": [
      "---------- TextMessage (add_1_agent_first) ----------\n",
      "1\n",
      "---------- TextMessage (add_1_agent_second) ----------\n",
      "2\n",
      "---------- TextMessage (add_1_agent_third) ----------\n",
      "3\n",
      "---------- TextMessage (add_1_agent_first) ----------\n",
      "4\n",
      "---------- TextMessage (add_1_agent_second) ----------\n",
      "5\n"
     ]
    },
    {
     "data": {
      "text/plain": [
       "TaskResult(messages=[TextMessage(id='5eb379f5-c555-4cab-9857-97d625fb36ac', source='add_1_agent_first', models_usage=RequestUsage(prompt_tokens=24, completion_tokens=1), metadata={}, created_at=datetime.datetime(2025, 8, 9, 4, 34, 27, 841270, tzinfo=datetime.timezone.utc), content='1', type='TextMessage'), TextMessage(id='1c3d3881-0eef-4417-928f-b1de514eced1', source='add_1_agent_second', models_usage=RequestUsage(prompt_tokens=29, completion_tokens=1), metadata={}, created_at=datetime.datetime(2025, 8, 9, 4, 34, 28, 613324, tzinfo=datetime.timezone.utc), content='2', type='TextMessage'), TextMessage(id='94f42489-f3f9-4cfb-b178-aa9e1c1829c9', source='add_1_agent_third', models_usage=RequestUsage(prompt_tokens=39, completion_tokens=1), metadata={}, created_at=datetime.datetime(2025, 8, 9, 4, 34, 29, 207656, tzinfo=datetime.timezone.utc), content='3', type='TextMessage'), TextMessage(id='b94568f3-2257-4a5a-ad28-e4097decc34b', source='add_1_agent_first', models_usage=RequestUsage(prompt_tokens=50, completion_tokens=1), metadata={}, created_at=datetime.datetime(2025, 8, 9, 4, 34, 29, 941516, tzinfo=datetime.timezone.utc), content='4', type='TextMessage'), TextMessage(id='088f7ce1-6363-4117-8ef4-8577d1fc48f9', source='add_1_agent_second', models_usage=RequestUsage(prompt_tokens=55, completion_tokens=1), metadata={}, created_at=datetime.datetime(2025, 8, 9, 4, 34, 30, 506294, tzinfo=datetime.timezone.utc), content='5', type='TextMessage')], stop_reason='Maximum number of turns 5 reached.')"
      ]
     },
     "execution_count": 5,
     "metadata": {},
     "output_type": "execute_result"
    }
   ],
   "source": [
    "await Console(team.run_stream())"
   ]
  },
  {
   "cell_type": "markdown",
   "id": "31dcb6b8",
   "metadata": {},
   "source": [
    "- Termination conditions"
   ]
  },
  {
   "cell_type": "code",
   "execution_count": null,
   "id": "feb27a0f",
   "metadata": {},
   "outputs": [],
   "source": [
    "from autogen_agentchat.agents import AssistantAgent\n",
    "add_1_agent_first = AssistantAgent(\n",
    "    name = 'add_1_agent_first',\n",
    "    model_client=model_client,\n",
    "    system_message=\"Add 1 to the number, first number is 0. Give result as output\"\n",
    ")\n",
    "\n",
    "add_1_agent_second = AssistantAgent(\n",
    "    name = 'add_1_agent_second',\n",
    "    model_client=model_client,\n",
    "    system_message=\"Add 1 to the number. Give result as output.\"\n",
    ")\n",
    " \n",
    "add_1_agent_third = AssistantAgent(\n",
    "    name = 'add_1_agent_third',\n",
    "    model_client=model_client,\n",
    "    system_message=\"Add 1 to the number. Give result as output.\"\n",
    ")\n",
    "\n",
    "from autogen_agentchat.teams import RoundRobinGroupChat\n",
    "\n",
    "team = RoundRobinGroupChat(\n",
    "    [add_1_agent_first, add_1_agent_second, add_1_agent_third]\n",
    ")\n",
    "from autogen_agentchat.ui import Console\n",
    "\n",
    "await Console(team.run_stream())"
   ]
  },
  {
   "cell_type": "code",
   "execution_count": null,
   "id": "08be32ed",
   "metadata": {},
   "outputs": [],
   "source": [
    "from autogen_agentchat.conditions import MaxMessageTermination\n",
    "\n",
    "max_termination = MaxMessageTermination(5)\n",
    "team = RoundRobinGroupChat(\n",
    "    [add_1_agent_first, add_1_agent_second, add_1_agent_third],\n",
    "    termination_condition =max_termination\n",
    ")"
   ]
  },
  {
   "cell_type": "code",
   "execution_count": 19,
   "id": "61c9c5da",
   "metadata": {},
   "outputs": [
    {
     "name": "stdout",
     "output_type": "stream",
     "text": [
      "---------- TextMessage (user) ----------\n",
      "Write a story about one girl and a panda in 50 words.\n",
      "---------- TextMessage (story_writer) ----------\n",
      "A brave knight ventured through a dark forest to save his kingdom's treasure. He battled fierce beasts and tricked cunning sorcerers. Heart pure and sword steady, he reached the hidden cave, rescuing the realm's stolen fortune. His courage became legend. The kingdom celebrated his heroics.\n",
      "---------- TextMessage (story_critic) ----------\n",
      "THE END\n"
     ]
    },
    {
     "data": {
      "text/plain": [
       "TaskResult(messages=[TextMessage(id='3ba7153b-e4a9-49dd-a00f-2cdbc77fe16c', source='user', models_usage=None, metadata={}, created_at=datetime.datetime(2025, 8, 9, 0, 14, 45, 694013, tzinfo=datetime.timezone.utc), content='Write a story about one girl and a panda in 50 words.', type='TextMessage'), TextMessage(id='5a783315-2400-43b6-b38c-76cd961cf39a', source='story_writer', models_usage=RequestUsage(prompt_tokens=59, completion_tokens=59), metadata={}, created_at=datetime.datetime(2025, 8, 9, 0, 14, 48, 158432, tzinfo=datetime.timezone.utc), content=\"A brave knight ventured through a dark forest to save his kingdom's treasure. He battled fierce beasts and tricked cunning sorcerers. Heart pure and sword steady, he reached the hidden cave, rescuing the realm's stolen fortune. His courage became legend. The kingdom celebrated his heroics.\", type='TextMessage'), TextMessage(id='df265111-14a4-496d-9d89-e175e6a3573c', source='story_critic', models_usage=RequestUsage(prompt_tokens=129, completion_tokens=2), metadata={}, created_at=datetime.datetime(2025, 8, 9, 0, 14, 49, 135307, tzinfo=datetime.timezone.utc), content='THE END', type='TextMessage')], stop_reason=\"Text 'THE END' mentioned\")"
      ]
     },
     "execution_count": 19,
     "metadata": {},
     "output_type": "execute_result"
    }
   ],
   "source": [
    "# Another option\n",
    "agent1 = AssistantAgent(\n",
    "    name = 'story_writer',\n",
    "    model_client=model_client,\n",
    "    system_message=\"Give the story about a brave knight, keep it short no more than 40 words. if critic say 'THE END' anywhere. Only output 'THE END'\"\n",
    ")\n",
    "\n",
    "agent2 = AssistantAgent(\n",
    "    name = 'story_critic',\n",
    "    model_client=model_client,\n",
    "    system_message=\"Continue the story and critic it with feedback. Keep it short and no more than 40 words. If it feels complete, just say 'THE END'. Only output 'THE END'\"\n",
    ")\n",
    "from autogen_agentchat.conditions import TextMentionTermination\n",
    "\n",
    "\n",
    "text_mention_termination = TextMentionTermination('THE END')\n",
    "teamWithTextTermination = RoundRobinGroupChat(\n",
    "    [agent1, agent2],\n",
    "    termination_condition=text_mention_termination\n",
    ")\n",
    "\n",
    "from autogen_agentchat.ui import Console\n",
    "\n",
    "await Console(teamWithTextTermination.run_stream(task = 'Write a story about one girl and a panda in 50 words.'))"
   ]
  },
  {
   "cell_type": "code",
   "execution_count": null,
   "id": "6aed5cb9",
   "metadata": {},
   "outputs": [],
   "source": []
  }
 ],
 "metadata": {
  "kernelspec": {
   "display_name": "Python 3",
   "language": "python",
   "name": "python3"
  },
  "language_info": {
   "codemirror_mode": {
    "name": "ipython",
    "version": 3
   },
   "file_extension": ".py",
   "mimetype": "text/x-python",
   "name": "python",
   "nbconvert_exporter": "python",
   "pygments_lexer": "ipython3",
   "version": "3.12.0"
  }
 },
 "nbformat": 4,
 "nbformat_minor": 5
}
