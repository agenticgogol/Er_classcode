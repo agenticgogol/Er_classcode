{
 "cells": [
  {
   "cell_type": "code",
   "execution_count": 1,
   "id": "6e847ddf",
   "metadata": {},
   "outputs": [],
   "source": [
    "# Agentic RAG\n",
    "# Key thing to remenber - Agent Decides which VectorDB to refer\n",
    "# Vector DBs needs to be converted to tools to be referred in Lanngraph Agentic workflow\n",
    "\n",
    "# tool for doing Web Searcg\n",
    "import os\n",
    "from dotenv import load_dotenv\n",
    "load_dotenv()\n",
    "os.environ[\"OPENAI_API_KEY\"] = os.getenv(\"OPENAI_API_KEY\")\n",
    "os.environ[\"GROQ_API_KEY\"]= os.getenv(\"GROQ_API_KEY\")\n",
    "os.environ[\"GOOGLE_API_KEY\"]= os.getenv(\"GOOGLE_API_KEY\")\n",
    "\n",
    "os.environ[\"LANGCHAIN_API_KEY\"]= os.getenv(\"LANGCHAIN_API_KEY\")\n",
    "os.environ[\"LANGCHAIN_PROJECT\"]= os.getenv(\"LANGCHAIN_PROJECT\")\n",
    "os.environ[\"LANGCHAIN_TRACING_V2\"]= os.getenv(\"LANGCHAIN_TRACING_V2\")\n",
    "os.environ[\"TAVILY_API_KEY\"]= os.getenv(\"TAVILY_API_KEY\")"
   ]
  },
  {
   "cell_type": "code",
   "execution_count": 2,
   "id": "5ad5f029",
   "metadata": {},
   "outputs": [
    {
     "name": "stderr",
     "output_type": "stream",
     "text": [
      "USER_AGENT environment variable not set, consider setting it to identify your requests.\n"
     ]
    }
   ],
   "source": [
    "from langchain_community.document_loaders import WebBaseLoader\n",
    "from langchain_community.vectorstores import FAISS\n",
    "from langchain_openai import OpenAIEmbeddings\n",
    "from langchain_text_splitters import RecursiveCharacterTextSplitter\n",
    "\n",
    "modi_urls = [\n",
    "    \"https://www.thehindu.com/news/national/tamil-nadu/pm-modi-inaugurates-projects-in-tamil-nadu/article69857729.ece\",\n",
    "    \"https://www.ndtv.com/india-news/narendra-modi-becomes-2nd-longest-serving-pm-in-india-surpasses-indira-gandhis-record-8945545\",\n",
    "    \"https://www.hindustantimes.com/india-news/pm-narendra-modi-tops-democratic-leader-approval-ratings-donald-trump-not-in-top-5-survey-101753502888294.html\",\n",
    "    \"https://en.wikipedia.org/wiki/Narendra_Modi\"\n",
    "]\n",
    "\n",
    "India_us_deal_urls = [\n",
    "    \"https://timesofindia.indiatimes.com/business/india-business/india-us-trade-deal-piyush-goyal-shares-important-update-says-negotiations-making-fast-progress/articleshow/122923278.cms\",\n",
    "    \"https://www.livemint.com/market/stock-market-news/stock-market-today-is-india-us-trade-deal-euphoria-ignoring-trumps-tariff-reality-11753506929046.html\",\n",
    "    \"https://www.bbc.com/news/articles/c307ggj492vo\"\n",
    "]\n",
    "\n",
    "docs_modi  = [WebBaseLoader(url).load() for url in modi_urls]\n",
    "docs_ind_us = [WebBaseLoader(url).load() for url in India_us_deal_urls]\n"
   ]
  },
  {
   "cell_type": "code",
   "execution_count": 16,
   "id": "5d339093",
   "metadata": {},
   "outputs": [],
   "source": [
    "#docs_modi"
   ]
  },
  {
   "cell_type": "code",
   "execution_count": 6,
   "id": "b394f2a6",
   "metadata": {},
   "outputs": [],
   "source": [
    "# Text splitting \n",
    "docs_modi_list = [item for subdoc in docs_modi for item in subdoc]\n",
    "docs_ind_us_deal_list = [item for subdoc in docs_ind_us for item in subdoc]\n",
    "\n",
    "text_splitter1 = RecursiveCharacterTextSplitter(chunk_size = 1000, chunk_overlap = 100)\n",
    "docs_modi_splits = text_splitter1.split_documents(docs_modi_list)\n",
    "\n",
    "text_splitter2 = RecursiveCharacterTextSplitter(chunk_size = 1000, chunk_overlap = 100)\n",
    "docs_ind_us_splits = text_splitter2.split_documents(docs_ind_us_deal_list)\n"
   ]
  },
  {
   "cell_type": "code",
   "execution_count": 18,
   "id": "400cbe3b",
   "metadata": {},
   "outputs": [],
   "source": [
    "#docs_modi_splits"
   ]
  },
  {
   "cell_type": "code",
   "execution_count": 9,
   "id": "9e304949",
   "metadata": {},
   "outputs": [],
   "source": [
    "import faiss\n",
    "from langchain_community.vectorstores import FAISS\n",
    "from langchain_community.docstore.in_memory import InMemoryDocstore\n",
    "embedding_dim = len(OpenAIEmbeddings().embed_query(\"test\"))\n",
    "index1 = faiss.IndexFlatIP(embedding_dim) # Exact Match(=Flat) , Euclidean Distance(=L2), [size of vector = 384)]\n",
    "vectorstore_modi = FAISS(\n",
    "    embedding_function = OpenAIEmbeddings(),\n",
    "    index = index1,\n",
    "    docstore = InMemoryDocstore(),\n",
    "    index_to_docstore_id={}\n",
    ")\n",
    "vectorstore_modi.add_documents(docs_modi_splits)\n",
    "retreiver_modi = vectorstore_modi.as_retriever()"
   ]
  },
  {
   "cell_type": "code",
   "execution_count": 13,
   "id": "a98f0b11",
   "metadata": {},
   "outputs": [],
   "source": [
    "index2 = faiss.IndexFlatIP(embedding_dim) # Exact Match(=Flat) , Euclidean Distance(=L2), [size of vector = 384)]\n",
    "vectorstore_indus = FAISS(\n",
    "    embedding_function = OpenAIEmbeddings(),\n",
    "    index = index2,\n",
    "    docstore = InMemoryDocstore(),\n",
    "    index_to_docstore_id={}\n",
    ")\n",
    "vectorstore_indus.add_documents(docs_ind_us_splits)\n",
    "retriever_indus = vectorstore_indus.as_retriever()"
   ]
  },
  {
   "cell_type": "code",
   "execution_count": 14,
   "id": "fe09eb19",
   "metadata": {},
   "outputs": [],
   "source": [
    "# Convert these retrievers into retriever tool \n",
    "# Remember LLM needs a docstring to decide what to search \n",
    "# Existing ways of creating vector do not have that\n",
    "from langchain.tools.retriever import create_retriever_tool\n",
    "retreiver_modi_tool = create_retriever_tool(\n",
    "  retreiver_modi,\n",
    "  \"retreiever_modi_vectordb\",\n",
    "  \"All recent news related to Narendra Modi and his latest tenure as Prime minister\"\n",
    ")\n",
    "\n",
    "retreiver_indus_tool = create_retriever_tool(\n",
    "  retriever_indus,\n",
    "  \"retriever_indus_vectordb\",\n",
    "  \"All recent news related to India and US trade deals and discussions\"\n",
    ")"
   ]
  },
  {
   "cell_type": "code",
   "execution_count": 22,
   "id": "ba475715",
   "metadata": {},
   "outputs": [],
   "source": [
    "tools = [retreiver_modi_tool,retreiver_indus_tool]\n",
    "# Define our LLM\n",
    "from langchain_openai import ChatOpenAI\n",
    "\n",
    "\n",
    "# Step1 - Create state for agent\n",
    "from typing_extensions import TypedDict\n",
    "from typing import Annotated\n",
    "from langgraph.graph.message import add_messages\n",
    "from langchain_core.output_parsers import StrOutputParser\n",
    "\n",
    "class State(TypedDict):\n",
    "    messages:Annotated[list,add_messages]\n",
    "\n",
    "def agent(state:State):\n",
    "    \"\"\"\n",
    "    It's job is to generate response based on the current state by invoking the right tool or agent models.\n",
    "    Given a question , this will decide to retrieve using the retriever tool . Or simply end.\n",
    "\n",
    "    Args:\n",
    "        state : The current state\n",
    "    \n",
    "    Returns:\n",
    "        dict : the updated state with agent response appended\n",
    "    \"\"\"\n",
    "    print(\"--- Agent is called ----\")\n",
    "    messages = state[\"messages\"]\n",
    "    model = ChatOpenAI(model = \"gpt-4o-mini\")\n",
    "    model = model.bind_tools(tools)\n",
    "    response = model.invoke(messages)\n",
    "\n",
    "    return {\"messages\":[response]}\n",
    "\n",
    "def generate_response(state:State):\n",
    "    \"\"\" \n",
    "    Generate answer\n",
    "    Args:\n",
    "        state(messages): The current state\n",
    "    Returns: \n",
    "        dict: The updated message\n",
    "    \"\"\"\n",
    "    print(\" ---Generate Response---\")\n",
    "    messages = state[\"messages\"]\n",
    "    question = messages[0].content\n",
    "    last_rel_message = messages[-1]\n",
    "    docs = last_rel_message.content\n",
    "\n",
    "    from langchain import hub\n",
    "    prompt = hub.pull(\"rlm/rag-prompt\")\n",
    "\n",
    "    llm = ChatOpenAI(model = \"gpt-4o-mini\")\n",
    "\n",
    "    def format_docs(docs):\n",
    "        return \"\\n\\n\".join(doc.page_content for doc in docs)\n",
    "    \n",
    "    # Chain\n",
    "    rag_chain = prompt | llm | StrOutputParser()\n",
    "\n",
    "    # Invoke\n",
    "    response = rag_chain.invoke({\"context\":docs,\"question\":question})\n",
    "    return {\"messages\":[response]}\n",
    "\n",
    "\n",
    "\n"
   ]
  },
  {
   "cell_type": "code",
   "execution_count": 25,
   "id": "68b90d20",
   "metadata": {},
   "outputs": [
    {
     "data": {
      "image/png": "[encoded data removed]",
      "text/plain": [
       "<IPython.core.display.Image object>"
      ]
     },
     "metadata": {},
     "output_type": "display_data"
    }
   ],
   "source": [
    "# Define a workflow\n",
    "\n",
    "from langgraph.graph import START,StateGraph,END\n",
    "from langgraph.prebuilt import ToolNode\n",
    "from langgraph.prebuilt import tools_condition\n",
    "\n",
    "workflow = StateGraph(State)\n",
    "workflow.add_node(\"agent\",agent)\n",
    "retrieve = ToolNode([retreiver_modi_tool,retreiver_indus_tool])\n",
    "workflow.add_node(\"retreive\",retrieve)\n",
    "workflow.add_node(\"generate_response\",generate_response)\n",
    "\n",
    "workflow.add_edge(START,\"agent\")\n",
    "workflow.add_conditional_edges(\"agent\",tools_condition,{\"tools\":\"retreive\",END:END,})\n",
    "workflow.add_edge(\"retreive\",\"generate_response\")\n",
    "workflow.add_edge(\"generate_response\",END)\n",
    "\n",
    "graph = workflow.compile()\n",
    "\n",
    "from IPython.display import Image,display\n",
    "display(Image(graph.get_graph(xray = True).draw_mermaid_png()))\n"
   ]
  },
  {
   "cell_type": "code",
   "execution_count": null,
   "id": "3d36ef81",
   "metadata": {},
   "outputs": [
    {
     "name": "stdout",
     "output_type": "stream",
     "text": [
      "--- Agent is called ----\n",
      " ---Generate Response---\n"
     ]
    },
    {
     "data": {
      "text/plain": [
       "{'messages': [HumanMessage(content='What are the lates updates on India US trade deal?', additional_kwargs={}, response_metadata={}, id='b170a8d2-bf00-48a7-8234-1f2042204a2d'),\n",
       "  AIMessage(content='', additional_kwargs={'tool_calls': [{'id': 'call_PniGZ3f3BW8J572EquTasMZF', 'function': {'arguments': '{\"query\":\"latest updates on India US trade deal\"}', 'name': 'retriever_indus_vectordb'}, 'type': 'function'}], 'refusal': None}, response_metadata={'token_usage': {'completion_tokens': 26, 'prompt_tokens': 120, 'total_tokens': 146, 'completion_tokens_details': {'accepted_prediction_tokens': 0, 'audio_tokens': 0, 'reasoning_tokens': 0, 'rejected_prediction_tokens': 0}, 'prompt_tokens_details': {'audio_tokens': 0, 'cached_tokens': 0}}, 'model_name': 'gpt-4o-mini-2024-07-18', 'system_fingerprint': 'fp_34a54ae93c', 'id': 'chatcmpl-BxnH7wWP09Ofwl4b34bG5OuYXJN3M', 'service_tier': 'default', 'finish_reason': 'tool_calls', 'logprobs': None}, id='run--ddbf9e6b-4f37-4a8f-8943-05f926d0d8f9-0', tool_calls=[{'name': 'retriever_indus_vectordb', 'args': {'query': 'latest updates on India US trade deal'}, 'id': 'call_PniGZ3f3BW8J572EquTasMZF', 'type': 'tool_call'}], usage_metadata={'input_tokens': 120, 'output_tokens': 26, 'total_tokens': 146, 'input_token_details': {'audio': 0, 'cache_read': 0}, 'output_token_details': {'audio': 0, 'reasoning': 0}}),\n",
       "  ToolMessage(content='India-US trade deal: Piyush Goyal shares important update; says negotiations ‘making fast progress’ - Times of IndiaEditionININUSEnglishEnglishहिन्दीमराठीಕನ್ನಡதமிழ்বাংলাമലയാളംతెలుగుગુજરાતીWeatherSign InTOIBusinessIndia BusinessInfrastructureGold Rates TodaySilver Rates Today Platinum Rates TodayFinancial LiteracyFinancial CalculatorsInternational BusinessCybersecurityMarketsIFSC CodeBudget 2025CryptocurrencyTOI DialoguesCredit ScoreWealthSensexPhotosStartupsVideosFAQsWeb StoriesFinancial Literacy SummitToday\\'s ePaperIndia BusinessBudgetIFSCPAN CardAadhaar CardIPOIncome TaxSavings Growth CalculatorNewsBusiness NewsIndia Business NewsIndia Business NewsIndia-US trade deal: Piyush Goyal shares important update; says negotiations ‘making fast progress’TrendingStock market today8th Pay CommissionGold Price PredictionSunjay KapurTop stocks todayGold Rate TodayAmerican meatStock market today8th Pay CommissionGold Price PredictionSunjay KapurTop stocks todayGold Rate TodayAmerican meatStock\\n\\non the proposed bilateral trade agreement are progressing swiftly.Addressing the media, Goyal said that negotiations with Washington are “making fast progress”, as per news agency PTI.India-U.S. Trade Deal: What\\'s India\\'s Smart Backup Plan If The Deal Falls Through? | ExplainedA team from the US is scheduled to visit India in August for the next round of negotiations.The fifth round of talks between the two countries concluded last week in Washington. Both sides are now working towards finalising the first tranche of the agreement by fall, around September or October. The goal is to significantly boost bilateral trade, which currently stands at $191 billion, with an aim to raise it to $500 billion.Goyal also mentioned that negotiations for a free trade agreement with Oman are “almost finalised.”The trade discussions with the US are expected to focus on ironing out remaining differences, particularly around sectors such as agriculture and dairy, where India has traditionally maintained\\n\\nduring an interaction hosted at the Consulate General of India in New York last week, adding, “In particular, I want to mention the US-India trade agreement that is being negotiated. Also, the India-European Union agreement.”Once the India-US trade deal happens, the one with the European Union will also happen and “that door will open very conveniently,” he said.With these two trade deals, India will have an open market with the European Union and the United States. These are the two largest markets. For any future investor, that makes India a very attractive location because effectively, the friction that is there on the border will melt away, and that is going to be an absolute game changer,” Panagariya said.(With inputs from PTI)Disclaimer: The views and recommendations made above are those of individual analysts or broking companies, and not of Mint. We advise investors to check with certified experts before making any investment decisions.Catch all the Business News ,  Market\\n\\nwork as euphoria for Dalal Street. However, Trump\\'s tariffs post-India US deal will dominate the markets.Advising retail investors to remain cautious about the India-US trade deal euphoria, Avinash Gorakshkar, SEBI-registered fundamental market analyst, said, \"The India-US trade deal is about ensuring the interest of the two economies. One should remain vigilant about what India gets for its IT, pharma, and textile industries. If the deal fails to address the interests of the Indian IT, pharma and textile industries, we may see a big crash further on Dalal Street.\"India-US trade deal euphoriaHighlighting the reality of Trump\\'s tariffs, even when the India-US trade deal is signed, Avinash Gorakshkar said, \"Despite the market euphoria, the fact remains that on December 31 last year, the average aggregate US tariff on imported goods was around 2.5%. So even if that ends up in the anticipated 15-20% range, it will still be at least six times what it was only a few months ago, and', name='retriever_indus_vectordb', id='1502beed-c31f-469f-a687-16869c1dba61', tool_call_id='call_PniGZ3f3BW8J572EquTasMZF'),\n",
       "  HumanMessage(content='Negotiations for the India-US trade deal are progressing quickly, with expectations for a final agreement by fall 2023. A US team is scheduled to visit India for further discussions, focusing on key sectors like agriculture and dairy. The goal is to significantly increase bilateral trade from $191 billion to $500 billion.', additional_kwargs={}, response_metadata={}, id='ed68c1bf-8256-4125-9c3f-25bb07392c6e')]}"
      ]
     },
     "execution_count": 26,
     "metadata": {},
     "output_type": "execute_result"
    }
   ],
   "source": [
    "graph.invoke({\"messages\":\"What are the latest updates on India US trade deal?\"})"
   ]
  },
  {
   "cell_type": "code",
   "execution_count": 27,
   "id": "f6466aea",
   "metadata": {},
   "outputs": [
    {
     "name": "stdout",
     "output_type": "stream",
     "text": [
      "--- Agent is called ----\n",
      " ---Generate Response---\n",
      "================================\u001b[1m Human Message \u001b[0m=================================\n",
      "\n",
      "What are the latest updates on India US trade deal?\n",
      "==================================\u001b[1m Ai Message \u001b[0m==================================\n",
      "Tool Calls:\n",
      "  retriever_indus_vectordb (call_tsNALBd9HjIehRNQkx210jQs)\n",
      " Call ID: call_tsNALBd9HjIehRNQkx210jQs\n",
      "  Args:\n",
      "    query: India US trade deal\n",
      "=================================\u001b[1m Tool Message \u001b[0m=================================\n",
      "Name: retriever_indus_vectordb\n",
      "\n",
      "on the proposed bilateral trade agreement are progressing swiftly.Addressing the media, Goyal said that negotiations with Washington are “making fast progress”, as per news agency PTI.India-U.S. Trade Deal: What's India's Smart Backup Plan If The Deal Falls Through? | ExplainedA team from the US is scheduled to visit India in August for the next round of negotiations.The fifth round of talks between the two countries concluded last week in Washington. Both sides are now working towards finalising the first tranche of the agreement by fall, around September or October. The goal is to significantly boost bilateral trade, which currently stands at $191 billion, with an aim to raise it to $500 billion.Goyal also mentioned that negotiations for a free trade agreement with Oman are “almost finalised.”The trade discussions with the US are expected to focus on ironing out remaining differences, particularly around sectors such as agriculture and dairy, where India has traditionally maintained\n",
      "\n",
      "during an interaction hosted at the Consulate General of India in New York last week, adding, “In particular, I want to mention the US-India trade agreement that is being negotiated. Also, the India-European Union agreement.”Once the India-US trade deal happens, the one with the European Union will also happen and “that door will open very conveniently,” he said.With these two trade deals, India will have an open market with the European Union and the United States. These are the two largest markets. For any future investor, that makes India a very attractive location because effectively, the friction that is there on the border will melt away, and that is going to be an absolute game changer,” Panagariya said.(With inputs from PTI)Disclaimer: The views and recommendations made above are those of individual analysts or broking companies, and not of Mint. We advise investors to check with certified experts before making any investment decisions.Catch all the Business News ,  Market\n",
      "\n",
      "India-US trade deal: Piyush Goyal shares important update; says negotiations ‘making fast progress’ - Times of IndiaEditionININUSEnglishEnglishहिन्दीमराठीಕನ್ನಡதமிழ்বাংলাമലയാളംతెలుగుગુજરાતીWeatherSign InTOIBusinessIndia BusinessInfrastructureGold Rates TodaySilver Rates Today Platinum Rates TodayFinancial LiteracyFinancial CalculatorsInternational BusinessCybersecurityMarketsIFSC CodeBudget 2025CryptocurrencyTOI DialoguesCredit ScoreWealthSensexPhotosStartupsVideosFAQsWeb StoriesFinancial Literacy SummitToday's ePaperIndia BusinessBudgetIFSCPAN CardAadhaar CardIPOIncome TaxSavings Growth CalculatorNewsBusiness NewsIndia Business NewsIndia Business NewsIndia-US trade deal: Piyush Goyal shares important update; says negotiations ‘making fast progress’TrendingStock market today8th Pay CommissionGold Price PredictionSunjay KapurTop stocks todayGold Rate TodayAmerican meatStock market today8th Pay CommissionGold Price PredictionSunjay KapurTop stocks todayGold Rate TodayAmerican meatStock\n",
      "\n",
      "and attractive prices.\"Four things you need to know about UK-India trade dealIndia trade deal could undercut UK workers, opposition parties sayUK and India agree trade deal after three years of talksThe UK government said the deal - announced in May after years of negotiations - will boost the British economy by £4.8bn a year. The agreement was approved by the Indian cabinet earlier this week but has not yet been agreed by the UK parliament and is expected to take at least a year to come into effect.The agreement includes lower tariffs on:clothing and shoescarsfood, including frozen prawnsjewellery and gemsThe government also emphasised the benefit to economic growth and job creation from UK firms expanding exports to India.UK exports that will see levies fall include:gin and whiskyaerospace, electricals and medical devicescosmeticslamb, salmon, chocolates and biscuitsluxury carsThe UK already imports £11bn in goods from India but the lower tariffs agreed will make Indian exports\n",
      "================================\u001b[1m Human Message \u001b[0m=================================\n",
      "\n",
      "Negotiations for the India-US trade deal are progressing swiftly, with a US team expected to visit India in August for further discussions. The goal is to finalize the first tranche of the agreement by fall, potentially around September or October. The current bilateral trade stands at $191 billion, with aims to increase it to $500 billion.\n"
     ]
    }
   ],
   "source": [
    "from pprint import pprint\n",
    "messages = graph.invoke({\"messages\":\"What are the latest updates on India US trade deal?\"})\n",
    "for m in messages['messages']:\n",
    "    m.pretty_print()"
   ]
  },
  {
   "cell_type": "code",
   "execution_count": 28,
   "id": "93bf914c",
   "metadata": {},
   "outputs": [
    {
     "name": "stdout",
     "output_type": "stream",
     "text": [
      "--- Agent is called ----\n",
      " ---Generate Response---\n",
      "================================\u001b[1m Human Message \u001b[0m=================================\n",
      "\n",
      "How is Narenda Modi's latest tenure?\n",
      "==================================\u001b[1m Ai Message \u001b[0m==================================\n",
      "Tool Calls:\n",
      "  retreiever_modi_vectordb (call_nIsKSZV5bQZWqpXpejgTcR4O)\n",
      " Call ID: call_nIsKSZV5bQZWqpXpejgTcR4O\n",
      "  Args:\n",
      "    query: Narendra Modi latest tenure\n",
      "=================================\u001b[1m Tool Message \u001b[0m=================================\n",
      "Name: retreiever_modi_vectordb\n",
      "\n",
      "Prime Minister of India (2014–present)\n",
      "Main article: Premiership of Narendra Modi\n",
      "For a chronological guide, see Timeline of the premiership of Narendra Modi.\n",
      "Modi taking the oath of office as the Prime Minister of India for the first time, with President Pranab Mukherjee administering the oath\n",
      "Modi taking the oath of office as the Prime Minister of India for the second time, with President Ram Nath Kovind administering the oath\n",
      "Modi taking the oath of office as the Prime Minister of India for the third time, with President Droupadi Murmu administering the oath\n",
      "Governance and other initiatives\n",
      "Modi addressing the Nation on the occasion of 74th Independence Day from the ramparts of Red Fort, in Delhi on 15 August 2020\n",
      "\n",
      "In the 2014 Indian general election, Modi led the BJP to a parliamentary majority, the first for a party since 1984. His administration increased direct foreign investment and reduced spending on healthcare, education, and social-welfare programs. Modi began a high-profile sanitation campaign and weakened or abolished environmental and labour laws. His demonetisation of banknotes in 2016 and introduction of the Goods and Services Tax in 2017 sparked controversy. Modi's administration launched the 2019 Balakot airstrike against an alleged terrorist training camp in Pakistan; the airstrike failed,[5][6] but the action had nationalist appeal.[7] Modi's party won the 2019 general election which followed. In its second term, his administration revoked the special status of Jammu and Kashmir and introduced the Citizenship Amendment Act, prompting widespread protests and spurring the 2020 Delhi riots in which Muslims were brutalised and killed by Hindu mobs.[8][9][10] Three controversial\n",
      "\n",
      "Media related to Narendra Modi at Wikimedia Commonsvte\n",
      "Narendra Damodardas Modi[a] (born 17 September 1950) is an Indian politician who has served as the  prime minister of India since 2014. Modi was the chief minister of Gujarat from 2001 to 2014 and is the member of parliament (MP) for Varanasi. He is a member of the Bharatiya Janata Party (BJP) and of the Rashtriya Swayamsevak Sangh (RSS), a right-wing Hindutva paramilitary volunteer organisation. He is the longest-serving prime minister outside the Indian National Congress.\n",
      "\n",
      "vte First Modi ministryPrime Minister: Narendra ModivteCabinet Ministers\n",
      "================================\u001b[1m Human Message \u001b[0m=================================\n",
      "\n",
      "Narendra Modi's latest tenure has seen a mix of controversial policies and significant political actions, such as the revocation of Jammu and Kashmir's special status and the introduction of the Citizenship Amendment Act. His administration has increased foreign investment but has faced criticism for reducing spending on healthcare and education. Additionally, his governance has led to nationwide protests and unrest, particularly regarding religious and ethnic tensions.\n"
     ]
    }
   ],
   "source": [
    "from pprint import pprint\n",
    "messages = graph.invoke({\"messages\":\"How is Narenda Modi's latest tenure?\"})\n",
    "for m in messages['messages']:\n",
    "    m.pretty_print()"
   ]
  },
  {
   "cell_type": "code",
   "execution_count": 29,
   "id": "9b7d406c",
   "metadata": {},
   "outputs": [
    {
     "name": "stdout",
     "output_type": "stream",
     "text": [
      "--- Agent is called ----\n",
      "================================\u001b[1m Human Message \u001b[0m=================================\n",
      "\n",
      "What is Agentic RAG?\n",
      "==================================\u001b[1m Ai Message \u001b[0m==================================\n",
      "\n",
      "Agentic RAG (Retrieval-Augmented Generation) combines retrieval-based methods with generative models to enhance the performance of language models in various applications. This approach allows models to access and incorporate external information dynamically, boosting their ability to generate coherent and contextually relevant responses. \n",
      "\n",
      "Key features of Agentic RAG include:\n",
      "\n",
      "1. **Retrieval Mechanism**: It retrieves relevant documents or data from a large dataset or knowledge base during the generation process, ensuring the model has access to accurate and up-to-date information.\n",
      "\n",
      "2. **Augmented Generation**: The retrieved information is used to augment the generative capabilities of the model. This means the model doesn't just rely on its training data but can adapt based on new information it retrieves in real-time.\n",
      "\n",
      "3. **Improved Contextual Understanding**: By incorporating external knowledge, Agentic RAG models can provide more precise answers, reducing hallucinations (inaccurate or fabricated information) common in traditional generative models.\n",
      "\n",
      "Overall, Agentic RAG represents a significant advancement in natural language processing, especially for tasks requiring accuracy and context-awareness.\n"
     ]
    }
   ],
   "source": [
    "from pprint import pprint\n",
    "messages = graph.invoke({\"messages\":\"What is Agentic RAG?\"})\n",
    "for m in messages['messages']:\n",
    "    m.pretty_print()"
   ]
  },
  {
   "cell_type": "code",
   "execution_count": null,
   "id": "7d83ed59",
   "metadata": {},
   "outputs": [],
   "source": []
  }
 ],
 "metadata": {
  "kernelspec": {
   "display_name": "Python 3",
   "language": "python",
   "name": "python3"
  },
  "language_info": {
   "codemirror_mode": {
    "name": "ipython",
    "version": 3
   },
   "file_extension": ".py",
   "mimetype": "text/x-python",
   "name": "python",
   "nbconvert_exporter": "python",
   "pygments_lexer": "ipython3",
   "version": "3.13.0"
  }
 },
 "nbformat": 4,
 "nbformat_minor": 5
}
