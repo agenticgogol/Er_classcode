{
 "cells": [
  {
   "cell_type": "code",
   "execution_count": 1,
   "id": "24319c8f",
   "metadata": {},
   "outputs": [
    {
     "data": {
      "text/plain": [
       "True"
      ]
     },
     "execution_count": 1,
     "metadata": {},
     "output_type": "execute_result"
    }
   ],
   "source": [
    "from autogen_agentchat.agents import AssistantAgent, UserProxyAgent\n",
    "from autogen_ext.models.openai import OpenAIChatCompletionClient\n",
    "from autogen_agentchat.teams import RoundRobinGroupChat\n",
    "from autogen_agentchat.conditions import TextMentionTermination \n",
    "from dotenv import load_dotenv\n",
    "from autogen_agentchat.base import TaskResult\n",
    "from autogen_agentchat.ui import Console\n",
    "import os\n",
    "\n",
    "\n",
    "load_dotenv()\n"
   ]
  },
  {
   "cell_type": "code",
   "execution_count": 2,
   "id": "9dc86b59",
   "metadata": {},
   "outputs": [],
   "source": [
    "async def team_Config(job_position=\"Software Engineer\"):\n",
    "\n",
    "    model_client = OpenAIChatCompletionClient(model=\"gpt-4o\",api_key=os.getenv(\"OPENAI_API_KEY\"))\n",
    "\n",
    "    # Defining our Agent\n",
    "    # 1. Interviewer Agent\n",
    "    # 2. Interviewee Agent\n",
    "    # 3. Career coach Agent\n",
    "    job_position = \"Data Science Manager\"\n",
    "\n",
    "    interviewer = AssistantAgent(\n",
    "        name=\"Interviewer\",\n",
    "        model_client=model_client,\n",
    "        description=f\"An AI agent that conducts interviews for a {job_position} position.\",\n",
    "        system_message=f'''\n",
    "        You are a professional interviewer for a {job_position} position.\n",
    "        Ask one clear question at a time and Wait for user to respond. \n",
    "        Your job is to continue and ask questions, don't pay any attention to interview coach's response. \n",
    "        Make sure to ask question based on Candidate's answer and your expertise in the field.\n",
    "        Ask 3 questions in total covering technical skills and experience, problem-solving abilities, and cultural fit.\n",
    "        After asking 3 questions, say 'TERMINATE' at the end of the interview.\n",
    "        Make question under 50 words.\n",
    "    '''\n",
    "    )\n",
    "\n",
    "    candidate = UserProxyAgent(\n",
    "        name = \"candidate\",\n",
    "        description=f\"An agent that simulates a candidate for a {job_position} position.\",\n",
    "        input_func=input\n",
    "    )\n",
    "\n",
    "\n",
    "    # 3. Interview Coach Agent\n",
    "    interview_coach = AssistantAgent(\n",
    "        name=\"Interview_Coach\",\n",
    "        model_client=model_client,\n",
    "        description=f\"An AI agent that provides feedback and advice to candidates for a {job_position} position to better prepare for interview\",\n",
    "        system_message=f'''\n",
    "        You are a interview coach specializing in preparing candidates for {job_position} interviews.\n",
    "        Provide constructive feedback on the candidate's responses and suggest improvements.\n",
    "        After the interview, summarize the candidate's performance and provide actionable advice.\n",
    "        Give a final rating to the candidate out of 0-10 with 10 being the best.\n",
    "        Make your feedback under 100 words.\n",
    "    '''\n",
    "    )\n",
    "\n",
    "    terminate_condition = TextMentionTermination(text=\"TERMINATE\")\n",
    "\n",
    "    team = RoundRobinGroupChat(\n",
    "        participants=[interviewer, candidate, interview_coach],\n",
    "        termination_condition=terminate_condition,\n",
    "        max_turns=20\n",
    "    )\n",
    "    return team\n",
    "\n",
    "\n",
    "async def interview(team):\n",
    "# Running the interview\n",
    "    async for message in team.run_stream(task='Start the interview with the first question ?'):\n",
    "        if isinstance(message,TaskResult):\n",
    "            message = f'Interview completed with result: {message.stop_reason}'\n",
    "            yield message\n",
    "        else:\n",
    "            message = f'{message.source}: {message.content}'\n",
    "            yield message\n"
   ]
  },
  {
   "cell_type": "code",
   "execution_count": 3,
   "id": "5760ac6d",
   "metadata": {},
   "outputs": [
    {
     "name": "stdout",
     "output_type": "stream",
     "text": [
      "---------- TextMessage (Interviewer) ----------\n",
      "What technical skills and tools do you consider essential for a Data Science Manager, and how have you applied them in your previous roles?\n",
      "---------- TextMessage (candidate) ----------\n",
      "I think SQL , Python , Problem Solving , Advanced Machine Learning knowledge , Statistics and MLOps are required skills for a data science manager. I have applied them in my previous roles in an ecommerce company where I have built end to end recommendation systems.\n",
      "---------- TextMessage (Interview_Coach) ----------\n",
      "Your mention of technical skills like SQL, Python, machine learning, and MLOps shows you have a solid foundation. However, a more detailed explanation of how you utilized these skills, particularly in managing teams and projects, would have strengthened your response. Consider discussing specific tools (e.g., TensorFlow, Docker) and any frameworks for collaboration or project management (e.g., Agile, Jira) to showcase your managerial capabilities. \n",
      "\n",
      "Overall performance: 6/10. Focus on experience and strategy in your responses.\n",
      "---------- TextMessage (Interviewer) ----------\n",
      "Can you describe a challenging problem your team faced while deploying a machine learning model and how you guided them through solving it?\n",
      "---------- TextMessage (candidate) ----------\n",
      "Yeah the model was performing well in training data and test data . No overfitting was there. But it production, it started to underperform. Upon investigation we realized that the behavior of the feature variables have changed signficantly in production from teh training data . Hence, we made it a mandate to do out of time testing for any ML model before productionizing it\n",
      "---------- TextMessage (Interview_Coach) ----------\n",
      "Your answer clearly highlighted a real-world challenge and the solution, showing adaptability and critical thinking. However, it would be beneficial to elaborate more on your specific role in guiding the team through this challenge and any lessons learned. Also, mention how you ensured continuous monitoring post-implementation. This will better illustrate your leadership skills and how you ensured team learning and process improvement.\n",
      "\n",
      "Overall performance: 7/10. Expand on leadership and strategy.\n",
      "---------- TextMessage (Interviewer) ----------\n",
      "How do you ensure alignment between data science projects and the overall business objectives in your team?\n",
      "---------- TextMessage (candidate) ----------\n",
      "I define the business goals into data science OKRs\n",
      "---------- TextMessage (Interview_Coach) ----------\n",
      "It's great that you use OKRs to align with business objectives. However, your response could be enhanced by explaining your approach to engagement with stakeholders and how you ensure continuous communication and adjustment. Additionally, discussing involving your team in refining these OKRs, or how you measure and iterate on them based on business outcomes, would show a comprehensive strategy.\n",
      "\n",
      "Overall performance: 6.5/10. Elaborate on processes and stakeholder engagement.\n",
      "---------- TextMessage (Interviewer) ----------\n",
      "TERMINATE\n"
     ]
    },
    {
     "data": {
      "text/plain": [
       "TaskResult(messages=[TextMessage(id='63e99b5f-999f-49a5-b664-d4383c8629bc', source='Interviewer', models_usage=RequestUsage(prompt_tokens=126, completion_tokens=26), metadata={}, created_at=datetime.datetime(2025, 8, 9, 2, 54, 33, 670175, tzinfo=datetime.timezone.utc), content='What technical skills and tools do you consider essential for a Data Science Manager, and how have you applied them in your previous roles?', type='TextMessage'), UserInputRequestedEvent(id='00fd2556-874b-4996-b6af-9f935609f8f1', source='candidate', models_usage=None, metadata={}, created_at=datetime.datetime(2025, 8, 9, 2, 54, 33, 674526, tzinfo=datetime.timezone.utc), request_id='097cc23e-5cd4-4588-8754-5a1f7749bbed', content='', type='UserInputRequestedEvent'), TextMessage(id='43e3abe7-59aa-465c-aa98-e6a66db7b7e1', source='candidate', models_usage=None, metadata={}, created_at=datetime.datetime(2025, 8, 9, 2, 55, 55, 533930, tzinfo=datetime.timezone.utc), content='I think SQL , Python , Problem Solving , Advanced Machine Learning knowledge , Statistics and MLOps are required skills for a data science manager. I have applied them in my previous roles in an ecommerce company where I have built end to end recommendation systems.', type='TextMessage'), TextMessage(id='3404440a-f3bc-4f8a-811c-d080d5660ec9', source='Interview_Coach', models_usage=RequestUsage(prompt_tokens=173, completion_tokens=103), metadata={}, created_at=datetime.datetime(2025, 8, 9, 2, 55, 58, 154192, tzinfo=datetime.timezone.utc), content='Your mention of technical skills like SQL, Python, machine learning, and MLOps shows you have a solid foundation. However, a more detailed explanation of how you utilized these skills, particularly in managing teams and projects, would have strengthened your response. Consider discussing specific tools (e.g., TensorFlow, Docker) and any frameworks for collaboration or project management (e.g., Agile, Jira) to showcase your managerial capabilities. \\n\\nOverall performance: 6/10. Focus on experience and strategy in your responses.', type='TextMessage'), TextMessage(id='09c9df83-f365-46fc-abe0-cbe8603ad754', source='Interviewer', models_usage=RequestUsage(prompt_tokens=325, completion_tokens=24), metadata={}, created_at=datetime.datetime(2025, 8, 9, 2, 55, 59, 554192, tzinfo=datetime.timezone.utc), content='Can you describe a challenging problem your team faced while deploying a machine learning model and how you guided them through solving it?', type='TextMessage'), UserInputRequestedEvent(id='ca73ca59-f0bd-46f7-adb3-f7f3168aeec4', source='candidate', models_usage=None, metadata={}, created_at=datetime.datetime(2025, 8, 9, 2, 55, 59, 556489, tzinfo=datetime.timezone.utc), request_id='9db68c0f-55f5-4552-b49e-15eaa90686c9', content='', type='UserInputRequestedEvent'), TextMessage(id='279baff1-718c-4c54-a7b9-646b6f675e32', source='candidate', models_usage=None, metadata={}, created_at=datetime.datetime(2025, 8, 9, 2, 58, 17, 924672, tzinfo=datetime.timezone.utc), content='Yeah the model was performing well in training data and test data . No overfitting was there. But it production, it started to underperform. Upon investigation we realized that the behavior of the feature variables have changed signficantly in production from teh training data . Hence, we made it a mandate to do out of time testing for any ML model before productionizing it', type='TextMessage'), TextMessage(id='9a0d6fc4-a8c1-450d-aa1b-0a4f476270b3', source='Interview_Coach', models_usage=RequestUsage(prompt_tokens=391, completion_tokens=86), metadata={}, created_at=datetime.datetime(2025, 8, 9, 2, 58, 20, 488524, tzinfo=datetime.timezone.utc), content='Your answer clearly highlighted a real-world challenge and the solution, showing adaptability and critical thinking. However, it would be beneficial to elaborate more on your specific role in guiding the team through this challenge and any lessons learned. Also, mention how you ensured continuous monitoring post-implementation. This will better illustrate your leadership skills and how you ensured team learning and process improvement.\\n\\nOverall performance: 7/10. Expand on leadership and strategy.', type='TextMessage'), TextMessage(id='32d1ea2a-5949-445d-8eea-dbbb0e83ce23', source='Interviewer', models_usage=RequestUsage(prompt_tokens=528, completion_tokens=18), metadata={}, created_at=datetime.datetime(2025, 8, 9, 2, 58, 21, 271832, tzinfo=datetime.timezone.utc), content='How do you ensure alignment between data science projects and the overall business objectives in your team?', type='TextMessage'), UserInputRequestedEvent(id='e339dbe9-5987-4184-9d02-2d0846e8b656', source='candidate', models_usage=None, metadata={}, created_at=datetime.datetime(2025, 8, 9, 2, 58, 21, 274995, tzinfo=datetime.timezone.utc), request_id='c1121a9c-ff91-4ea9-ab12-ea29ced197fe', content='', type='UserInputRequestedEvent'), TextMessage(id='9ff0c5e1-8a7a-43ab-9977-d0252c2cd600', source='candidate', models_usage=None, metadata={}, created_at=datetime.datetime(2025, 8, 9, 2, 58, 59, 616068, tzinfo=datetime.timezone.utc), content='I define the business goals into data science OKRs', type='TextMessage'), TextMessage(id='327179e1-5e1c-4ff6-8cef-d7dae1ab3faf', source='Interview_Coach', models_usage=RequestUsage(prompt_tokens=522, completion_tokens=86), metadata={}, created_at=datetime.datetime(2025, 8, 9, 2, 59, 3, 73667, tzinfo=datetime.timezone.utc), content=\"It's great that you use OKRs to align with business objectives. However, your response could be enhanced by explaining your approach to engagement with stakeholders and how you ensure continuous communication and adjustment. Additionally, discussing involving your team in refining these OKRs, or how you measure and iterate on them based on business outcomes, would show a comprehensive strategy.\\n\\nOverall performance: 6.5/10. Elaborate on processes and stakeholder engagement.\", type='TextMessage'), TextMessage(id='b74266dd-bd90-4af3-9da3-9186a4f6db33', source='Interviewer', models_usage=RequestUsage(prompt_tokens=661, completion_tokens=3), metadata={}, created_at=datetime.datetime(2025, 8, 9, 2, 59, 4, 71667, tzinfo=datetime.timezone.utc), content='TERMINATE', type='TextMessage')], stop_reason=\"Text 'TERMINATE' mentioned\")"
      ]
     },
     "execution_count": 3,
     "metadata": {},
     "output_type": "execute_result"
    }
   ],
   "source": [
    "import asyncio\n",
    "\n",
    "job_position = \"Data Science Manager\"\n",
    "team = await team_Config(job_position)\n",
    "from autogen_agentchat.ui import Console\n",
    "await Console(team.run_stream())\n"
   ]
  },
  {
   "cell_type": "code",
   "execution_count": null,
   "id": "7e025417",
   "metadata": {},
   "outputs": [],
   "source": []
  }
 ],
 "metadata": {
  "kernelspec": {
   "display_name": "Python 3",
   "language": "python",
   "name": "python3"
  },
  "language_info": {
   "codemirror_mode": {
    "name": "ipython",
    "version": 3
   },
   "file_extension": ".py",
   "mimetype": "text/x-python",
   "name": "python",
   "nbconvert_exporter": "python",
   "pygments_lexer": "ipython3",
   "version": "3.12.0"
  }
 },
 "nbformat": 4,
 "nbformat_minor": 5
}
